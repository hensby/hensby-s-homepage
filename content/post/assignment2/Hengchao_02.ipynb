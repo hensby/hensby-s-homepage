{
 "cells": [
  {
   "cell_type": "markdown",
   "metadata": {},
   "source": [
    "# Assignment2\n",
    "### Hengchao Wang  1001778272"
   ]
  },
  {
   "cell_type": "code",
   "execution_count": 1,
   "metadata": {},
   "outputs": [],
   "source": [
    "from csv import reader\n",
    "from math import sqrt\n",
    "import random\n",
    "import operator\n",
    "import matplotlib.pyplot as plt"
   ]
  },
  {
   "cell_type": "code",
   "execution_count": 2,
   "metadata": {},
   "outputs": [],
   "source": [
    "# variable\n",
    "filename = \"iris_data\"\n",
    "splitRow = 0.8\n",
    "K = 5\n",
    "distanceMethod = 1"
   ]
  },
  {
   "cell_type": "markdown",
   "metadata": {},
   "source": [
    "## Divide the dataset as development and test. "
   ]
  },
  {
   "cell_type": "code",
   "execution_count": 3,
   "metadata": {},
   "outputs": [],
   "source": [
    "def str_column_to_float(dataset):\n",
    "    for i in range(len(dataset[0]) - 1):\n",
    "        for row in dataset:\n",
    "            row[i] = float(row[i].strip())\n",
    "\n",
    "# load csv files into a list. parameters: start row end row and which row is classRow\n",
    "def load_csv(filename, start = 0, end = -1, classRow = -1):\n",
    "    dataset = list()\n",
    "    filename = filename + \".csv\"\n",
    "    with open(filename, 'r') as file:\n",
    "        csv_reader = reader(file)\n",
    "        for row in csv_reader:\n",
    "            if not row:\n",
    "                continue\n",
    "            if end == -1:\n",
    "                if classRow != -1: \n",
    "                    tmp = row[classRow]\n",
    "                    row[classRow] = row[-1]\n",
    "                    row[-1] = tmp\n",
    "                dataset.append(row[start:])\n",
    "            else :\n",
    "                if classRow != -1: \n",
    "                    tmp = row[classRow]\n",
    "                    row[classRow] = row[-1]\n",
    "                    row[-1] = tmp\n",
    "                dataset.append(row[start:end])\n",
    "    str_column_to_float(dataset)\n",
    "    return dataset"
   ]
  },
  {
   "cell_type": "code",
   "execution_count": 4,
   "metadata": {},
   "outputs": [
    {
     "data": {
      "text/plain": [
       "150"
      ]
     },
     "execution_count": 4,
     "metadata": {},
     "output_type": "execute_result"
    }
   ],
   "source": [
    "dataset = load_csv(filename)\n",
    "len(dataset)"
   ]
  },
  {
   "cell_type": "code",
   "execution_count": 5,
   "metadata": {},
   "outputs": [
    {
     "name": "stdout",
     "output_type": "stream",
     "text": [
      "developmentSet length: 124 testSet length: 25\n"
     ]
    },
    {
     "data": {
      "text/plain": [
       "float"
      ]
     },
     "execution_count": 5,
     "metadata": {},
     "output_type": "execute_result"
    }
   ],
   "source": [
    "def saperateDataset(dataset, splitRate):\n",
    "    developmentSet = list()\n",
    "    testSet = list()\n",
    "    for x in range(len(dataset)-1):\n",
    "        for y in range(4):\n",
    "            dataset[x][y] = float(dataset[x][y])\n",
    "        if random.random() < splitRate:  \n",
    "            developmentSet.append(dataset[x])\n",
    "        else:\n",
    "            testSet.append(dataset[x])\n",
    "    print(\"developmentSet length:\", len(developmentSet), \"testSet length:\",  len(testSet))\n",
    "    return developmentSet,testSet\n",
    "\n",
    "developmentSet,testSet = saperateDataset(dataset, splitRow)\n",
    "type(developmentSet[1][1])"
   ]
  },
  {
   "cell_type": "markdown",
   "metadata": {},
   "source": [
    "## Distance metric"
   ]
  },
  {
   "cell_type": "code",
   "execution_count": 6,
   "metadata": {},
   "outputs": [],
   "source": [
    "def euclideanDistance(a,b):  #euclidean\n",
    "    sum = 0\n",
    "    for i in range(len(a)-1):\n",
    "        sum += (a[i]-b[i])**2\n",
    "    return sqrt(sum)\n",
    "\n",
    "def normalizedEuclideanDistance(a,b):   #normalized euclidean\n",
    "    sumnum = 0\n",
    "    for i in range(len(a)-1):\n",
    "        avg = (a[i]-b[i])/2\n",
    "        si = sqrt( (a[i] - avg) ** 2 + (b[i] - avg) ** 2 )\n",
    "        sumnum += ((a[i]-b[i])/si ) ** 2\n",
    "    return sqrt(sumnum)\n",
    "\n",
    "def cosineSimilarity(a,b):   #cosine similarity\n",
    "    sum_fenzi = 0.0\n",
    "    sum_fenmu_1,sum_fenmu_2 = 0,0\n",
    "    for i in range(len(a)-1):\n",
    "        sum_fenzi += a[i]*b[i]\n",
    "        sum_fenmu_1 += a[i]**2 \n",
    "        sum_fenmu_2 += b[i]**2 \n",
    "        \n",
    "    return sum_fenzi/( sqrt(sum_fenmu_1) * sqrt(sum_fenmu_2) )"
   ]
  },
  {
   "cell_type": "code",
   "execution_count": 7,
   "metadata": {},
   "outputs": [
    {
     "name": "stdout",
     "output_type": "stream",
     "text": [
      "a,b euclidean distance： 3.0\n",
      "a,b normalized euclidean distance： 0.6738353315566452\n",
      "a,b cosine similarity： 0.9428090415820634\n"
     ]
    }
   ],
   "source": [
    "def distanceTest():\n",
    "    print( 'a,b euclidean distance：',euclideanDistance((1,2,1,2),(3,3,3,4)))\n",
    "    print( 'a,b normalized euclidean distance：',normalizedEuclideanDistance((1,2,1,2),(3,3,3,4)))\n",
    "    print( 'a,b cosine similarity：',cosineSimilarity((1,2,1,2),(3,3,3,4)))\n",
    "    \n",
    "distanceTest()"
   ]
  },
  {
   "cell_type": "markdown",
   "metadata": {},
   "source": [
    "## Implement KNN"
   ]
  },
  {
   "cell_type": "code",
   "execution_count": 8,
   "metadata": {},
   "outputs": [],
   "source": [
    "def getNeighbors(developmentSet, instance, k, distanceMethod):  # choose distance method. \n",
    "    distances = list()\n",
    "    for x in range(len(developmentSet)):\n",
    "#         print(developmentSet[x], instance)\n",
    "        if operator.eq(developmentSet[x],instance): \n",
    "            continue\n",
    "        else:\n",
    "            if distanceMethod == 1:    #1 == euclideanDistance\n",
    "                dist = euclideanDistance(instance, developmentSet[x])\n",
    "            elif distanceMethod == 2:   #2 == normalizedEuclideanDistance\n",
    "                dist = normalizedEuclideanDistance(instance, developmentSet[x])\n",
    "            elif distanceMethod == 3:   #3 == cosineSimilarity\n",
    "                dist = cosineSimilarity(instance, developmentSet[x])\n",
    "            distances.append((developmentSet[x], dist))   \n",
    "    distances.sort(key=operator.itemgetter(1)) \n",
    "    sorted(distances,key=lambda x: x[0])   #sorted by \n",
    "    neighbors = list()\n",
    "    if distanceMethod == 1 or distanceMethod == 2:   \n",
    "        for x in range(k):   \n",
    "            neighbors.append(distances[x][0])\n",
    "    else: \n",
    "        for x in range(len(distances)-k, len(distances)):   # cosineSimilarity need to get the top k biggest\n",
    "            neighbors.append(distances[x][0])\n",
    "    return neighbors"
   ]
  },
  {
   "cell_type": "code",
   "execution_count": 9,
   "metadata": {},
   "outputs": [],
   "source": [
    "def getPrediction(neighbors):\n",
    "    classVotes = {}\n",
    "    for x in range(len(neighbors)):\n",
    "        response = neighbors[x][-1]\n",
    "        if response in classVotes:\n",
    "            classVotes[response] += 1\n",
    "        else:\n",
    "            classVotes[response] = 1\n",
    "    sortedVotes = sorted(classVotes.items(), key=operator.itemgetter(1), reverse=True)\n",
    "    return sortedVotes[0][0]  "
   ]
  },
  {
   "cell_type": "code",
   "execution_count": 10,
   "metadata": {},
   "outputs": [],
   "source": [
    "def getAccuracy(testSet, predictions):\n",
    "    correct = 0\n",
    "    for x in range(len(testSet)):\n",
    "        if testSet[x][-1] == predictions[x]:\n",
    "            correct += 1\n",
    "    return (correct/float(len(testSet)))*100.0"
   ]
  },
  {
   "cell_type": "code",
   "execution_count": 11,
   "metadata": {},
   "outputs": [
    {
     "data": {
      "text/plain": [
       "'Iris-setosa'"
      ]
     },
     "execution_count": 11,
     "metadata": {},
     "output_type": "execute_result"
    }
   ],
   "source": [
    "# test of KNN\n",
    "neighbors = getNeighbors(developmentSet, developmentSet[1], K, 3)   #test\n",
    "getPrediction(neighbors)"
   ]
  },
  {
   "cell_type": "code",
   "execution_count": 12,
   "metadata": {},
   "outputs": [],
   "source": [
    "def getAllPrediction(developmentSet, k, distanceMethod):\n",
    "    predictions = []\n",
    "    for instance in developmentSet:\n",
    "        neighbors = getNeighbors(developmentSet, instance, k, distanceMethod)\n",
    "        predictions.append(getPrediction(neighbors))\n",
    "#     print(predictions)\n",
    "    accuracy = getAccuracy(developmentSet, predictions)\n",
    "    if distanceMethod == 1:\n",
    "        method = \"EuclideanDistance\"\n",
    "    elif distanceMethod == 2:\n",
    "        method = \"normalizedEuclideanDistance\"\n",
    "    elif distanceMethod == 3:\n",
    "        method = \"cosineSimilarity\"\n",
    "    \n",
    "    print(\"k = \", k, \" distanceMethod = \", method , \"accuracy = \",accuracy)\n",
    "    return accuracy"
   ]
  },
  {
   "cell_type": "code",
   "execution_count": 13,
   "metadata": {},
   "outputs": [
    {
     "name": "stdout",
     "output_type": "stream",
     "text": [
      "k =  1  distanceMethod =  EuclideanDistance accuracy =  95.96774193548387\n",
      "k =  3  distanceMethod =  EuclideanDistance accuracy =  95.96774193548387\n",
      "k =  5  distanceMethod =  EuclideanDistance accuracy =  96.7741935483871\n",
      "k =  7  distanceMethod =  EuclideanDistance accuracy =  96.7741935483871\n",
      "k =  1  distanceMethod =  normalizedEuclideanDistance accuracy =  94.35483870967742\n",
      "k =  3  distanceMethod =  normalizedEuclideanDistance accuracy =  95.96774193548387\n",
      "k =  5  distanceMethod =  normalizedEuclideanDistance accuracy =  95.16129032258065\n",
      "k =  7  distanceMethod =  normalizedEuclideanDistance accuracy =  95.96774193548387\n",
      "k =  1  distanceMethod =  cosineSimilarity accuracy =  95.96774193548387\n",
      "k =  3  distanceMethod =  cosineSimilarity accuracy =  97.58064516129032\n",
      "k =  5  distanceMethod =  cosineSimilarity accuracy =  98.38709677419355\n",
      "k =  7  distanceMethod =  cosineSimilarity accuracy =  97.58064516129032\n"
     ]
    }
   ],
   "source": [
    "def compare(data):  \n",
    "    for distanceMethod in [1,2,3]:\n",
    "        for K in [1,3,5,7]:\n",
    "            getAllPrediction(data, K, distanceMethod)\n",
    "    \n",
    "compare(developmentSet)"
   ]
  },
  {
   "cell_type": "code",
   "execution_count": 14,
   "metadata": {},
   "outputs": [
    {
     "name": "stdout",
     "output_type": "stream",
     "text": [
      "k =  1  distanceMethod =  EuclideanDistance accuracy =  95.96774193548387\n",
      "k =  2  distanceMethod =  EuclideanDistance accuracy =  95.96774193548387\n",
      "k =  3  distanceMethod =  EuclideanDistance accuracy =  95.96774193548387\n",
      "k =  4  distanceMethod =  EuclideanDistance accuracy =  95.96774193548387\n",
      "k =  5  distanceMethod =  EuclideanDistance accuracy =  96.7741935483871\n",
      "k =  6  distanceMethod =  EuclideanDistance accuracy =  95.96774193548387\n",
      "k =  7  distanceMethod =  EuclideanDistance accuracy =  96.7741935483871\n",
      "k =  8  distanceMethod =  EuclideanDistance accuracy =  95.16129032258065\n",
      "k =  9  distanceMethod =  EuclideanDistance accuracy =  96.7741935483871\n",
      "k =  10  distanceMethod =  EuclideanDistance accuracy =  96.7741935483871\n",
      "k =  1  distanceMethod =  normalizedEuclideanDistance accuracy =  94.35483870967742\n",
      "k =  2  distanceMethod =  normalizedEuclideanDistance accuracy =  94.35483870967742\n",
      "k =  3  distanceMethod =  normalizedEuclideanDistance accuracy =  95.96774193548387\n",
      "k =  4  distanceMethod =  normalizedEuclideanDistance accuracy =  94.35483870967742\n",
      "k =  5  distanceMethod =  normalizedEuclideanDistance accuracy =  95.16129032258065\n",
      "k =  6  distanceMethod =  normalizedEuclideanDistance accuracy =  94.35483870967742\n",
      "k =  7  distanceMethod =  normalizedEuclideanDistance accuracy =  95.96774193548387\n",
      "k =  8  distanceMethod =  normalizedEuclideanDistance accuracy =  96.7741935483871\n",
      "k =  9  distanceMethod =  normalizedEuclideanDistance accuracy =  95.96774193548387\n",
      "k =  10  distanceMethod =  normalizedEuclideanDistance accuracy =  96.7741935483871\n",
      "k =  1  distanceMethod =  cosineSimilarity accuracy =  95.96774193548387\n",
      "k =  2  distanceMethod =  cosineSimilarity accuracy =  95.96774193548387\n",
      "k =  3  distanceMethod =  cosineSimilarity accuracy =  97.58064516129032\n",
      "k =  4  distanceMethod =  cosineSimilarity accuracy =  97.58064516129032\n",
      "k =  5  distanceMethod =  cosineSimilarity accuracy =  98.38709677419355\n",
      "k =  6  distanceMethod =  cosineSimilarity accuracy =  97.58064516129032\n",
      "k =  7  distanceMethod =  cosineSimilarity accuracy =  97.58064516129032\n",
      "k =  8  distanceMethod =  cosineSimilarity accuracy =  97.58064516129032\n",
      "k =  9  distanceMethod =  cosineSimilarity accuracy =  97.58064516129032\n",
      "k =  10  distanceMethod =  cosineSimilarity accuracy =  98.38709677419355\n"
     ]
    },
    {
     "data": {
      "image/png": "[encoded data removed]",
      "text/plain": [
       "<Figure size 432x288 with 1 Axes>"
      ]
     },
     "metadata": {
      "needs_background": "light"
     },
     "output_type": "display_data"
    }
   ],
   "source": [
    "def plotRes(k, m1, m2, m3): # Draw bar charts for accuracy\n",
    "    \n",
    "    plt.xlim(0, 10)   \n",
    "    plt.plot(k, m1,label = \"$test error$\", c = \"r\")\n",
    "    plt.plot(k, m2,label = \"$normalizedEuclideanDistance$\", c = \"y\")\n",
    "    plt.plot(k, m3,label = \"$cosineSimilarity$\", c = \"g\")\n",
    "    plt.xlabel('K')\n",
    "    plt.ylabel('accuracy')\n",
    "    plt.show()\n",
    "    \n",
    "\n",
    "def findBest():      # Find optimal hyperparameters \n",
    "    maxAccuracy, bestK, bestM = 0, 0, 1\n",
    "    m1 = list()\n",
    "    m2 = list()\n",
    "    m3 = list()\n",
    "    k = [1,2,3,4,5,6,7,8,9,10]\n",
    "    for K in k:\n",
    "        acc = getAllPrediction(developmentSet, K, 1)\n",
    "        m1.append(acc)\n",
    "        if acc > maxAccuracy: maxAccuracy, bestK, bestM = acc, K, 1\n",
    "    for K in k:\n",
    "        acc = getAllPrediction(developmentSet, K, 2)\n",
    "        m2.append(acc)\n",
    "        if acc > maxAccuracy: maxAccuracy, bestK, bestM = acc, K, 2\n",
    "    for K in k:\n",
    "        acc = getAllPrediction(developmentSet, K, 3)\n",
    "        m3.append(acc)\n",
    "        if acc > maxAccuracy: maxAccuracy, bestK, bestM = acc, K, 3\n",
    "    plotRes(k, m1, m2, m3)\n",
    "    return maxAccuracy, bestK, bestM\n",
    "    \n",
    "maxAccuracy, bestK, bestM = findBest()"
   ]
  },
  {
   "cell_type": "code",
   "execution_count": 15,
   "metadata": {},
   "outputs": [
    {
     "name": "stdout",
     "output_type": "stream",
     "text": [
      "k =  5  distanceMethod =  cosineSimilarity accuracy =  96.0\n"
     ]
    },
    {
     "data": {
      "text/plain": [
       "96.0"
      ]
     },
     "execution_count": 15,
     "metadata": {},
     "output_type": "execute_result"
    }
   ],
   "source": [
    "getAllPrediction(testSet, bestK, bestM)"
   ]
  },
  {
   "cell_type": "code",
   "execution_count": null,
   "metadata": {},
   "outputs": [],
   "source": []
  }
 ],
 "metadata": {
  "kernelspec": {
   "display_name": "Python 3",
   "language": "python",
   "name": "python3"
  },
  "language_info": {
   "codemirror_mode": {
    "name": "ipython",
    "version": 3
   },
   "file_extension": ".py",
   "mimetype": "text/x-python",
   "name": "python",
   "nbconvert_exporter": "python",
   "pygments_lexer": "ipython3",
   "version": "3.7.6"
  }
 },
 "nbformat": 4,
 "nbformat_minor": 4
}
