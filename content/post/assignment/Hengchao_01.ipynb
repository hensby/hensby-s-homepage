{
 "cells": [
  {
   "cell_type": "code",
   "execution_count": 116,
   "metadata": {},
   "outputs": [],
   "source": [
    "import numpy as np\n",
    "import matplotlib.pyplot as plt\n",
    "import math\n",
    "import pandas as pd\n",
    "import sklearn\n",
    "import prettytable as pt\n",
    "import numpy as np\n",
    "import tensorflow as tf\n",
    "\n",
    "from sklearn.pipeline import Pipeline\n",
    "from sklearn.linear_model import Ridge\n",
    "from sklearn.preprocessing import normalize,StandardScaler,PolynomialFeatures  \n",
    "from sklearn import model_selection\n",
    "from sklearn.linear_model import LinearRegression "
   ]
  },
  {
   "cell_type": "code",
   "execution_count": 2,
   "metadata": {},
   "outputs": [],
   "source": [
    "res = {}"
   ]
  },
  {
   "cell_type": "markdown",
   "metadata": {},
   "source": [
    "## a. Generate 20 data pairs (X, Y) using y = sin(2\\*pi\\*X) + N "
   ]
  },
  {
   "cell_type": "code",
   "execution_count": 86,
   "metadata": {},
   "outputs": [
    {
     "name": "stdout",
     "output_type": "stream",
     "text": [
      "[-0.10065512 -0.20123299  0.13067115 -0.35995294 -0.34811604  0.21112207\n",
      " -0.23787448  0.10021735 -0.01532149  0.01159478  0.01675671 -0.2049862\n",
      " -0.26199684 -0.08677789 -0.14949241  0.11808432  0.47300011 -0.10460325\n",
      "  0.2606299   0.04766576]\n",
      "[0.         0.33069396 0.66138793 0.99208189 1.32277585 1.65346982\n",
      " 1.98416378 2.31485774 2.64555171 2.97624567 3.30693964 3.6376336\n",
      " 3.96832756 4.29902153 4.62971549 4.96040945 5.29110342 5.62179738\n",
      " 5.95249134 6.28318531]\n"
     ]
    }
   ],
   "source": [
    "x_sin = np.linspace(0,1,200)\n",
    "x = np.linspace(0,1,20)\n",
    "d = np.random.normal(loc=0,scale=0.2,size=20)    # N from the normal gaussian distribution \n",
    "print(d)\n",
    "y_sin = 2*math.pi*x_sin\n",
    "y = 2*math.pi*x\n",
    "print(y)\n",
    "for i in range(200):\n",
    "    y_sin[i] = math.sin(y_sin[i])    \n",
    "for i in range(20):\n",
    "    y[i] = math.sin(y[i])+ d[i]"
   ]
  },
  {
   "cell_type": "code",
   "execution_count": 87,
   "metadata": {},
   "outputs": [
    {
     "data": {
      "text/plain": [
       "<matplotlib.collections.PathCollection at 0x1a490bf490>"
      ]
     },
     "execution_count": 87,
     "metadata": {},
     "output_type": "execute_result"
    },
    {
     "data": {
      "image/png": "[encoded data removed]",
      "text/plain": [
       "<Figure size 432x288 with 1 Axes>"
      ]
     },
     "metadata": {
      "needs_background": "light"
     },
     "output_type": "display_data"
    }
   ],
   "source": [
    "plt.plot(x_sin, y_sin, \"r-\")  # original sin function curve\n",
    "plt.scatter(x, y)"
   ]
  },
  {
   "cell_type": "code",
   "execution_count": 88,
   "metadata": {},
   "outputs": [
    {
     "data": {
      "text/html": [
       "<div>\n",
       "<style scoped>\n",
       "    .dataframe tbody tr th:only-of-type {\n",
       "        vertical-align: middle;\n",
       "    }\n",
       "\n",
       "    .dataframe tbody tr th {\n",
       "        vertical-align: top;\n",
       "    }\n",
       "\n",
       "    .dataframe thead th {\n",
       "        text-align: right;\n",
       "    }\n",
       "</style>\n",
       "<table border=\"1\" class=\"dataframe\">\n",
       "  <thead>\n",
       "    <tr style=\"text-align: right;\">\n",
       "      <th></th>\n",
       "      <th>X</th>\n",
       "      <th>Y</th>\n",
       "    </tr>\n",
       "  </thead>\n",
       "  <tbody>\n",
       "    <tr>\n",
       "      <th>0</th>\n",
       "      <td>0.000000</td>\n",
       "      <td>-0.100655</td>\n",
       "    </tr>\n",
       "    <tr>\n",
       "      <th>1</th>\n",
       "      <td>0.052632</td>\n",
       "      <td>0.123466</td>\n",
       "    </tr>\n",
       "    <tr>\n",
       "      <th>2</th>\n",
       "      <td>0.105263</td>\n",
       "      <td>0.744884</td>\n",
       "    </tr>\n",
       "    <tr>\n",
       "      <th>3</th>\n",
       "      <td>0.157895</td>\n",
       "      <td>0.477214</td>\n",
       "    </tr>\n",
       "    <tr>\n",
       "      <th>4</th>\n",
       "      <td>0.210526</td>\n",
       "      <td>0.621284</td>\n",
       "    </tr>\n",
       "    <tr>\n",
       "      <th>5</th>\n",
       "      <td>0.263158</td>\n",
       "      <td>1.207707</td>\n",
       "    </tr>\n",
       "    <tr>\n",
       "      <th>6</th>\n",
       "      <td>0.315789</td>\n",
       "      <td>0.677899</td>\n",
       "    </tr>\n",
       "    <tr>\n",
       "      <th>7</th>\n",
       "      <td>0.368421</td>\n",
       "      <td>0.835941</td>\n",
       "    </tr>\n",
       "    <tr>\n",
       "      <th>8</th>\n",
       "      <td>0.421053</td>\n",
       "      <td>0.460626</td>\n",
       "    </tr>\n",
       "    <tr>\n",
       "      <th>9</th>\n",
       "      <td>0.473684</td>\n",
       "      <td>0.176189</td>\n",
       "    </tr>\n",
       "    <tr>\n",
       "      <th>10</th>\n",
       "      <td>0.526316</td>\n",
       "      <td>-0.147838</td>\n",
       "    </tr>\n",
       "    <tr>\n",
       "      <th>11</th>\n",
       "      <td>0.578947</td>\n",
       "      <td>-0.680934</td>\n",
       "    </tr>\n",
       "    <tr>\n",
       "      <th>12</th>\n",
       "      <td>0.631579</td>\n",
       "      <td>-0.997721</td>\n",
       "    </tr>\n",
       "    <tr>\n",
       "      <th>13</th>\n",
       "      <td>0.684211</td>\n",
       "      <td>-1.002551</td>\n",
       "    </tr>\n",
       "    <tr>\n",
       "      <th>14</th>\n",
       "      <td>0.736842</td>\n",
       "      <td>-1.146077</td>\n",
       "    </tr>\n",
       "    <tr>\n",
       "      <th>15</th>\n",
       "      <td>0.789474</td>\n",
       "      <td>-0.851316</td>\n",
       "    </tr>\n",
       "    <tr>\n",
       "      <th>16</th>\n",
       "      <td>0.842105</td>\n",
       "      <td>-0.364166</td>\n",
       "    </tr>\n",
       "    <tr>\n",
       "      <th>17</th>\n",
       "      <td>0.894737</td>\n",
       "      <td>-0.718816</td>\n",
       "    </tr>\n",
       "    <tr>\n",
       "      <th>18</th>\n",
       "      <td>0.947368</td>\n",
       "      <td>-0.064070</td>\n",
       "    </tr>\n",
       "    <tr>\n",
       "      <th>19</th>\n",
       "      <td>1.000000</td>\n",
       "      <td>0.047666</td>\n",
       "    </tr>\n",
       "  </tbody>\n",
       "</table>\n",
       "</div>"
      ],
      "text/plain": [
       "           X         Y\n",
       "0   0.000000 -0.100655\n",
       "1   0.052632  0.123466\n",
       "2   0.105263  0.744884\n",
       "3   0.157895  0.477214\n",
       "4   0.210526  0.621284\n",
       "5   0.263158  1.207707\n",
       "6   0.315789  0.677899\n",
       "7   0.368421  0.835941\n",
       "8   0.421053  0.460626\n",
       "9   0.473684  0.176189\n",
       "10  0.526316 -0.147838\n",
       "11  0.578947 -0.680934\n",
       "12  0.631579 -0.997721\n",
       "13  0.684211 -1.002551\n",
       "14  0.736842 -1.146077\n",
       "15  0.789474 -0.851316\n",
       "16  0.842105 -0.364166\n",
       "17  0.894737 -0.718816\n",
       "18  0.947368 -0.064070\n",
       "19  1.000000  0.047666"
      ]
     },
     "execution_count": 88,
     "metadata": {},
     "output_type": "execute_result"
    }
   ],
   "source": [
    "data_1 = {'X':x, 'Y':y}\n",
    "data = pd.DataFrame(data = data_1, dtype=np.int8)\n",
    "data"
   ]
  },
  {
   "cell_type": "code",
   "execution_count": 6,
   "metadata": {},
   "outputs": [],
   "source": [
    "X_train,X_test, Y_train, Y_test =model_selection.train_test_split(x, y, test_size=0.5, random_state=3)"
   ]
  },
  {
   "cell_type": "code",
   "execution_count": 144,
   "metadata": {},
   "outputs": [
    {
     "data": {
      "text/html": [
       "<div>\n",
       "<style scoped>\n",
       "    .dataframe tbody tr th:only-of-type {\n",
       "        vertical-align: middle;\n",
       "    }\n",
       "\n",
       "    .dataframe tbody tr th {\n",
       "        vertical-align: top;\n",
       "    }\n",
       "\n",
       "    .dataframe thead th {\n",
       "        text-align: right;\n",
       "    }\n",
       "</style>\n",
       "<table border=\"1\" class=\"dataframe\">\n",
       "  <thead>\n",
       "    <tr style=\"text-align: right;\">\n",
       "      <th></th>\n",
       "      <th>X</th>\n",
       "      <th>Y</th>\n",
       "    </tr>\n",
       "  </thead>\n",
       "  <tbody>\n",
       "    <tr>\n",
       "      <th>0</th>\n",
       "      <td>0.473684</td>\n",
       "      <td>0.237901</td>\n",
       "    </tr>\n",
       "    <tr>\n",
       "      <th>1</th>\n",
       "      <td>0.578947</td>\n",
       "      <td>-0.421769</td>\n",
       "    </tr>\n",
       "    <tr>\n",
       "      <th>2</th>\n",
       "      <td>1.000000</td>\n",
       "      <td>0.202538</td>\n",
       "    </tr>\n",
       "    <tr>\n",
       "      <th>3</th>\n",
       "      <td>0.947368</td>\n",
       "      <td>-0.162660</td>\n",
       "    </tr>\n",
       "    <tr>\n",
       "      <th>4</th>\n",
       "      <td>0.684211</td>\n",
       "      <td>-0.950614</td>\n",
       "    </tr>\n",
       "    <tr>\n",
       "      <th>5</th>\n",
       "      <td>0.263158</td>\n",
       "      <td>1.167077</td>\n",
       "    </tr>\n",
       "    <tr>\n",
       "      <th>6</th>\n",
       "      <td>0.000000</td>\n",
       "      <td>0.100110</td>\n",
       "    </tr>\n",
       "    <tr>\n",
       "      <th>7</th>\n",
       "      <td>0.421053</td>\n",
       "      <td>0.415397</td>\n",
       "    </tr>\n",
       "    <tr>\n",
       "      <th>8</th>\n",
       "      <td>0.157895</td>\n",
       "      <td>0.648296</td>\n",
       "    </tr>\n",
       "    <tr>\n",
       "      <th>9</th>\n",
       "      <td>0.526316</td>\n",
       "      <td>-0.159142</td>\n",
       "    </tr>\n",
       "  </tbody>\n",
       "</table>\n",
       "</div>"
      ],
      "text/plain": [
       "          X         Y\n",
       "0  0.473684  0.237901\n",
       "1  0.578947 -0.421769\n",
       "2  1.000000  0.202538\n",
       "3  0.947368 -0.162660\n",
       "4  0.684211 -0.950614\n",
       "5  0.263158  1.167077\n",
       "6  0.000000  0.100110\n",
       "7  0.421053  0.415397\n",
       "8  0.157895  0.648296\n",
       "9  0.526316 -0.159142"
      ]
     },
     "execution_count": 144,
     "metadata": {},
     "output_type": "execute_result"
    }
   ],
   "source": [
    "train = {'X':X_train, 'Y': Y_train}\n",
    "train_data = pd.DataFrame(data = train, dtype=np.int8)\n",
    "train_data"
   ]
  },
  {
   "cell_type": "code",
   "execution_count": 145,
   "metadata": {},
   "outputs": [
    {
     "data": {
      "text/html": [
       "<div>\n",
       "<style scoped>\n",
       "    .dataframe tbody tr th:only-of-type {\n",
       "        vertical-align: middle;\n",
       "    }\n",
       "\n",
       "    .dataframe tbody tr th {\n",
       "        vertical-align: top;\n",
       "    }\n",
       "\n",
       "    .dataframe thead th {\n",
       "        text-align: right;\n",
       "    }\n",
       "</style>\n",
       "<table border=\"1\" class=\"dataframe\">\n",
       "  <thead>\n",
       "    <tr style=\"text-align: right;\">\n",
       "      <th></th>\n",
       "      <th>X</th>\n",
       "      <th>Y</th>\n",
       "    </tr>\n",
       "  </thead>\n",
       "  <tbody>\n",
       "    <tr>\n",
       "      <th>0</th>\n",
       "      <td>0.736842</td>\n",
       "      <td>-1.170818</td>\n",
       "    </tr>\n",
       "    <tr>\n",
       "      <th>1</th>\n",
       "      <td>0.105263</td>\n",
       "      <td>0.519501</td>\n",
       "    </tr>\n",
       "    <tr>\n",
       "      <th>2</th>\n",
       "      <td>0.052632</td>\n",
       "      <td>0.682805</td>\n",
       "    </tr>\n",
       "    <tr>\n",
       "      <th>3</th>\n",
       "      <td>0.894737</td>\n",
       "      <td>-0.622776</td>\n",
       "    </tr>\n",
       "    <tr>\n",
       "      <th>4</th>\n",
       "      <td>0.210526</td>\n",
       "      <td>0.919025</td>\n",
       "    </tr>\n",
       "    <tr>\n",
       "      <th>5</th>\n",
       "      <td>0.842105</td>\n",
       "      <td>-0.838238</td>\n",
       "    </tr>\n",
       "    <tr>\n",
       "      <th>6</th>\n",
       "      <td>0.315789</td>\n",
       "      <td>1.068300</td>\n",
       "    </tr>\n",
       "    <tr>\n",
       "      <th>7</th>\n",
       "      <td>0.368421</td>\n",
       "      <td>0.677289</td>\n",
       "    </tr>\n",
       "    <tr>\n",
       "      <th>8</th>\n",
       "      <td>0.789474</td>\n",
       "      <td>-0.755381</td>\n",
       "    </tr>\n",
       "    <tr>\n",
       "      <th>9</th>\n",
       "      <td>0.631579</td>\n",
       "      <td>-0.913760</td>\n",
       "    </tr>\n",
       "  </tbody>\n",
       "</table>\n",
       "</div>"
      ],
      "text/plain": [
       "          X         Y\n",
       "0  0.736842 -1.170818\n",
       "1  0.105263  0.519501\n",
       "2  0.052632  0.682805\n",
       "3  0.894737 -0.622776\n",
       "4  0.210526  0.919025\n",
       "5  0.842105 -0.838238\n",
       "6  0.315789  1.068300\n",
       "7  0.368421  0.677289\n",
       "8  0.789474 -0.755381\n",
       "9  0.631579 -0.913760"
      ]
     },
     "execution_count": 145,
     "metadata": {},
     "output_type": "execute_result"
    }
   ],
   "source": [
    "test = {'X':X_test, 'Y': Y_test}\n",
    "test_data = pd.DataFrame(data = test, dtype=np.int8)\n",
    "test_data"
   ]
  },
  {
   "cell_type": "code",
   "execution_count": 196,
   "metadata": {},
   "outputs": [
    {
     "data": {
      "text/plain": [
       "<matplotlib.collections.PathCollection at 0x1a4b070f50>"
      ]
     },
     "execution_count": 196,
     "metadata": {},
     "output_type": "execute_result"
    },
    {
     "data": {
      "image/png": "[encoded data removed]",
      "text/plain": [
       "<Figure size 432x288 with 1 Axes>"
      ]
     },
     "metadata": {
      "needs_background": "light"
     },
     "output_type": "display_data"
    }
   ],
   "source": [
    "plt.scatter(X_train, Y_train)\n",
    "plt.scatter(X_test, Y_test, c = 'r')"
   ]
  },
  {
   "cell_type": "markdown",
   "metadata": {},
   "source": [
    "## b. Using room mean square error, find weights of polynomial regression for order is 0, 1, 3, 9"
   ]
  },
  {
   "cell_type": "code",
   "execution_count": 10,
   "metadata": {},
   "outputs": [],
   "source": [
    "def  polynomialRegression(i:int ) :\n",
    "    polynomial = PolynomialFeatures(degree = i)# quadratic polynomial\n",
    "    x_transformed = polynomial.fit_transform(X_train.reshape(10,1))\n",
    "    poly_linear_model = LinearRegression()\n",
    "    poly_linear_model.fit(x_transformed, Y_train)# train\n",
    "    return polynomial, poly_linear_model"
   ]
  },
  {
   "cell_type": "markdown",
   "metadata": {},
   "source": [
    "### weights of polynomial regression for order is 0"
   ]
  },
  {
   "cell_type": "code",
   "execution_count": 404,
   "metadata": {},
   "outputs": [
    {
     "data": {
      "text/plain": [
       "array([0.])"
      ]
     },
     "execution_count": 404,
     "metadata": {},
     "output_type": "execute_result"
    }
   ],
   "source": [
    "polynomial_0, poly_linear_model_0 = polynomialRegression(0) \n",
    "\n",
    "coef = poly_linear_model_0.coef_\n",
    "tmp = [0]*10\n",
    "for i in range(len(coef)) :\n",
    "    tmp[i] = int(coef[i])\n",
    "res['0'] = tmp\n",
    "coef"
   ]
  },
  {
   "cell_type": "markdown",
   "metadata": {},
   "source": [
    "### weights of polynomial regression for order is 1"
   ]
  },
  {
   "cell_type": "code",
   "execution_count": 405,
   "metadata": {},
   "outputs": [
    {
     "data": {
      "text/plain": [
       "array([ 0.        , -0.84393666])"
      ]
     },
     "execution_count": 405,
     "metadata": {},
     "output_type": "execute_result"
    }
   ],
   "source": [
    "\n",
    "polynomial_1, poly_linear_model_1 = polynomialRegression(1)\n",
    " \n",
    "coef = poly_linear_model_1.coef_\n",
    "tmp = [0]*10\n",
    "for i in range(len(coef)) :\n",
    "    tmp[i] = int(coef[i])\n",
    "res['1'] = tmp\n",
    "coef"
   ]
  },
  {
   "cell_type": "markdown",
   "metadata": {},
   "source": [
    "### weights of polynomial regression for order is 3"
   ]
  },
  {
   "cell_type": "code",
   "execution_count": 406,
   "metadata": {},
   "outputs": [
    {
     "data": {
      "text/plain": [
       "array([  0.        ,  10.54357363, -32.04219135,  21.74789823])"
      ]
     },
     "execution_count": 406,
     "metadata": {},
     "output_type": "execute_result"
    }
   ],
   "source": [
    "polynomial_3, poly_linear_model_3 = polynomialRegression(3)\n",
    " \n",
    "coef = poly_linear_model_3.coef_\n",
    "tmp = [0]*10\n",
    "for i in range(len(coef)) :\n",
    "    tmp[i] = int(coef[i])\n",
    "res['3'] = tmp\n",
    "coef"
   ]
  },
  {
   "cell_type": "markdown",
   "metadata": {},
   "source": [
    "### weights of polynomial regression for order is 9"
   ]
  },
  {
   "cell_type": "code",
   "execution_count": 407,
   "metadata": {},
   "outputs": [
    {
     "data": {
      "text/plain": [
       "array([ 0.00000000e+00, -9.15509033e+02,  1.78726994e+04, -1.41897131e+05,\n",
       "        6.07692204e+05, -1.54842153e+06,  2.41692818e+06, -2.26586227e+06,\n",
       "        1.17006720e+06, -2.55463736e+05])"
      ]
     },
     "execution_count": 407,
     "metadata": {},
     "output_type": "execute_result"
    }
   ],
   "source": [
    "polynomial_9, poly_linear_model_9 = polynomialRegression(9)\n",
    "coef = poly_linear_model_9.coef_\n",
    "tmp = [0]*10\n",
    "for i in range(len(coef)) :\n",
    "    tmp[i] = int(coef[i])\n",
    "res['9'] = tmp\n",
    "coef"
   ]
  },
  {
   "cell_type": "markdown",
   "metadata": {},
   "source": [
    "## c. Display weights in table "
   ]
  },
  {
   "cell_type": "code",
   "execution_count": 409,
   "metadata": {},
   "outputs": [
    {
     "name": "stdout",
     "output_type": "stream",
     "text": [
      "+-------------+---+---+-----+----------+\n",
      "| label\\order | 0 | 1 |  3  |    9     |\n",
      "+-------------+---+---+-----+----------+\n",
      "|      W0     | 0 | 0 |  0  |    0     |\n",
      "|      W1     | 0 | 0 |  10 |   -915   |\n",
      "|      W2     | 0 | 0 | -32 |  17872   |\n",
      "|      W3     | 0 | 0 |  21 | -141897  |\n",
      "|      W4     | 0 | 0 |  0  |  607692  |\n",
      "|      W5     | 0 | 0 |  0  | -1548421 |\n",
      "|      W6     | 0 | 0 |  0  | 2416928  |\n",
      "|      W7     | 0 | 0 |  0  | -2265862 |\n",
      "|      W8     | 0 | 0 |  0  | 1170067  |\n",
      "|      W9     | 0 | 0 |  0  | -255463  |\n",
      "+-------------+---+---+-----+----------+\n"
     ]
    }
   ],
   "source": [
    "from prettytable import PrettyTable\n",
    "x= PrettyTable()\n",
    "x.add_column(\"label\\order\", [\"W0\",\"W1\",\"W2\",\"W3\",\"W4\",\"W5\",\"W6\",\"W7\",\"W8\",\"W9\"])\n",
    "x.add_column(\"0\", res[\"0\"])\n",
    "x.add_column(\"1\", res[\"1\"])\n",
    "x.add_column(\"3\", res[\"3\"])\n",
    "x.add_column(\"9\", res[\"9\"])\n",
    "print(x)\n",
    "# the label 0, W0 in the table is the weights of polynomial regression for order is 0\n",
    "# the label 1, W0 and W1 in the table is the weights of polynomial regression for order is 1\n",
    "# the label 3, W0, W1, W2 and W3 in the table is the weights of polynomial regression for order is 3\n",
    "# the label 9, W0-W9 in the table is the weights of polynomial regression for order is 9"
   ]
  },
  {
   "cell_type": "markdown",
   "metadata": {},
   "source": [
    "## d. Draw a chart of fit data\n",
    "### weights of polynomial regression for order is 0"
   ]
  },
  {
   "cell_type": "code",
   "execution_count": 16,
   "metadata": {},
   "outputs": [
    {
     "data": {
      "text/plain": [
       "<matplotlib.legend.Legend at 0x1a45e81a10>"
      ]
     },
     "execution_count": 16,
     "metadata": {},
     "output_type": "execute_result"
    },
    {
     "data": {
      "image/png": "[encoded data removed]",
      "text/plain": [
       "<Figure size 432x288 with 1 Axes>"
      ]
     },
     "metadata": {
      "needs_background": "light"
     },
     "output_type": "display_data"
    }
   ],
   "source": [
    "xx = np.linspace(0, 1, 100)\n",
    "xx_transformed_0 = polynomial_0.fit_transform(xx.reshape(xx.shape[0], 1))\n",
    "yy = poly_linear_model_0.predict(xx_transformed_0)\n",
    "plt.plot(xx, yy,label=\"$y = N$\")\n",
    "plt.scatter(X_train, Y_train)\n",
    "plt.scatter(X_test, Y_test, c = 'r')\n",
    "plt.legend()"
   ]
  },
  {
   "cell_type": "markdown",
   "metadata": {},
   "source": [
    "### weights of polynomial regression for order is 1"
   ]
  },
  {
   "cell_type": "code",
   "execution_count": 17,
   "metadata": {},
   "outputs": [
    {
     "data": {
      "text/plain": [
       "<matplotlib.legend.Legend at 0x1a45ea9890>"
      ]
     },
     "execution_count": 17,
     "metadata": {},
     "output_type": "execute_result"
    },
    {
     "data": {
      "image/png": "[encoded data removed]",
      "text/plain": [
       "<Figure size 432x288 with 1 Axes>"
      ]
     },
     "metadata": {
      "needs_background": "light"
     },
     "output_type": "display_data"
    }
   ],
   "source": [
    "xx = np.linspace(0, 1, 100)\n",
    "xx_transformed_1 = polynomial_1.fit_transform(xx.reshape(xx.shape[0], 1))\n",
    "yy = poly_linear_model_1.predict(xx_transformed_1)\n",
    "plt.plot(xx, yy,label=\"$y = ax$\")\n",
    "plt.scatter(X_train, Y_train)\n",
    "plt.scatter(X_test, Y_test, c = 'r')\n",
    "plt.legend()"
   ]
  },
  {
   "cell_type": "markdown",
   "metadata": {},
   "source": [
    "### weights of polynomial regression for order is 3"
   ]
  },
  {
   "cell_type": "code",
   "execution_count": 18,
   "metadata": {},
   "outputs": [
    {
     "data": {
      "text/plain": [
       "<matplotlib.legend.Legend at 0x1a4606f6d0>"
      ]
     },
     "execution_count": 18,
     "metadata": {},
     "output_type": "execute_result"
    },
    {
     "data": {
      "image/png": "[encoded data removed]",
      "text/plain": [
       "<Figure size 432x288 with 1 Axes>"
      ]
     },
     "metadata": {
      "needs_background": "light"
     },
     "output_type": "display_data"
    }
   ],
   "source": [
    "xx = np.linspace(0, 1, 100)\n",
    "xx_transformed_3 = polynomial_3.fit_transform(xx.reshape(xx.shape[0], 1))\n",
    "yy = poly_linear_model_3.predict(xx_transformed_3)\n",
    "plt.plot(xx, yy,label=\"$y = ax3+bx2+cx+d$\")\n",
    "plt.scatter(X_train, Y_train)\n",
    "plt.scatter(X_test, Y_test, c = 'r')\n",
    "plt.legend()"
   ]
  },
  {
   "cell_type": "markdown",
   "metadata": {},
   "source": [
    "### weights of polynomial regression for order is 9"
   ]
  },
  {
   "cell_type": "code",
   "execution_count": 19,
   "metadata": {},
   "outputs": [
    {
     "data": {
      "text/plain": [
       "<matplotlib.legend.Legend at 0x1a46153d90>"
      ]
     },
     "execution_count": 19,
     "metadata": {},
     "output_type": "execute_result"
    },
    {
     "data": {
      "image/png": "[encoded data removed]",
      "text/plain": [
       "<Figure size 432x288 with 1 Axes>"
      ]
     },
     "metadata": {
      "needs_background": "light"
     },
     "output_type": "display_data"
    }
   ],
   "source": [
    "xx = np.linspace(0, 1, 100)\n",
    "xx_transformed_9 = polynomial_9.fit_transform(xx.reshape(xx.shape[0], 1))\n",
    "yy = poly_linear_model_9.predict(xx_transformed_9)\n",
    "plt.plot(xx, yy,label=\"$y = ax9+....$\")\n",
    "plt.scatter(X_train, Y_train)\n",
    "plt.scatter(X_test, Y_test, c = 'r')\n",
    "plt.ylim(-1.5 ,1.5)\n",
    "plt.legend()"
   ]
  },
  {
   "cell_type": "markdown",
   "metadata": {},
   "source": [
    "## e. Draw train error vs test error"
   ]
  },
  {
   "cell_type": "code",
   "execution_count": 20,
   "metadata": {},
   "outputs": [],
   "source": [
    "train_error = [0]*10     #train error\n",
    "test_error = [0]*10      #test error"
   ]
  },
  {
   "cell_type": "code",
   "execution_count": 21,
   "metadata": {},
   "outputs": [],
   "source": [
    "def getMse(Y, yy):\n",
    "    standard = tf.square(Y - yy)\n",
    "    mse = tf.reduce_mean(standard)\n",
    "    return mse.numpy()"
   ]
  },
  {
   "cell_type": "code",
   "execution_count": 22,
   "metadata": {},
   "outputs": [],
   "source": [
    "def getError(i:int,  model) :\n",
    "    polynomial = PolynomialFeatures(degree = i)\n",
    "    xx_transformed_test = polynomial.fit_transform(X_test.reshape(X_test.shape[0], 1))\n",
    "    xx_transformed_train = polynomial.fit_transform(X_train.reshape(X_test.shape[0], 1))\n",
    "    yy_test = model.predict(xx_transformed_test)\n",
    "    yy_train = model.predict(xx_transformed_train)\n",
    "\n",
    "    test_error[i] = getMse(Y_test, yy_test)\n",
    "\n",
    "    train_error[i] = getMse(Y_train, yy_train)"
   ]
  },
  {
   "cell_type": "code",
   "execution_count": 23,
   "metadata": {},
   "outputs": [
    {
     "name": "stdout",
     "output_type": "stream",
     "text": [
      "[0.725708887555328, 0.420433859602508, 0.4115158761946587, 0.03579509356913618, 0.038926156314548516, 0.033872153110566336, 0.05833211565743508, 0.1812106704430893, 0.554845693668926, 44.22283722466817]\n",
      "[0.3079871717563623, 0.24240685436800796, 0.23498551578658944, 0.01957321021379334, 0.01690032825391209, 0.005587179857868378, 0.003830224903521952, 0.000986326895842674, 0.0006297917682982702, 8.623765820671452e-21]\n"
     ]
    }
   ],
   "source": [
    "polynomial_2, poly_linear_model_2 = polynomialRegression(2)\n",
    "polynomial_4, poly_linear_model_4 = polynomialRegression(4)\n",
    "polynomial_5, poly_linear_model_5 = polynomialRegression(5)\n",
    "polynomial_6, poly_linear_model_6 = polynomialRegression(6)\n",
    "polynomial_7, poly_linear_model_7 = polynomialRegression(7)\n",
    "polynomial_8, poly_linear_model_8 = polynomialRegression(8)\n",
    "# 0,1,3,9 I used the model fitted before.\n",
    "getError(0, poly_linear_model_0)\n",
    "getError(1, poly_linear_model_1)\n",
    "getError(2, poly_linear_model_2)\n",
    "getError(3, poly_linear_model_3)\n",
    "getError(4, poly_linear_model_4)\n",
    "getError(5, poly_linear_model_5)\n",
    "getError(6, poly_linear_model_6)\n",
    "getError(7, poly_linear_model_7)\n",
    "getError(8, poly_linear_model_8)\n",
    "getError(9, poly_linear_model_9)\n",
    "\n",
    "print(test_error)\n",
    "print(train_error)"
   ]
  },
  {
   "cell_type": "code",
   "execution_count": 410,
   "metadata": {},
   "outputs": [
    {
     "data": {
      "text/plain": [
       "<matplotlib.legend.Legend at 0x1a4dd77a10>"
      ]
     },
     "execution_count": 410,
     "metadata": {},
     "output_type": "execute_result"
    },
    {
     "data": {
      "image/png": "[encoded data removed]",
      "text/plain": [
       "<Figure size 432x288 with 1 Axes>"
      ]
     },
     "metadata": {
      "needs_background": "light"
     },
     "output_type": "display_data"
    }
   ],
   "source": [
    "xx = np.linspace(0, 9, 10)\n",
    "plt.ylim(0 ,1)\n",
    "plt.xlim(0,9)\n",
    "plt.plot(xx, test_error, label = \"$test error$\", c = 'r')\n",
    "plt.plot(xx, train_error, label = \"$train error$\", c = 'b')\n",
    "\n",
    "plt.xlabel('Orders')\n",
    "\n",
    "plt.ylabel('Error')\n",
    "plt.legend()"
   ]
  },
  {
   "cell_type": "markdown",
   "metadata": {},
   "source": [
    "## f. Generate 100 more data and fit 9th order model and draw fit"
   ]
  },
  {
   "cell_type": "code",
   "execution_count": 82,
   "metadata": {},
   "outputs": [
    {
     "data": {
      "text/html": [
       "<div>\n",
       "<style scoped>\n",
       "    .dataframe tbody tr th:only-of-type {\n",
       "        vertical-align: middle;\n",
       "    }\n",
       "\n",
       "    .dataframe tbody tr th {\n",
       "        vertical-align: top;\n",
       "    }\n",
       "\n",
       "    .dataframe thead th {\n",
       "        text-align: right;\n",
       "    }\n",
       "</style>\n",
       "<table border=\"1\" class=\"dataframe\">\n",
       "  <thead>\n",
       "    <tr style=\"text-align: right;\">\n",
       "      <th></th>\n",
       "      <th>X</th>\n",
       "      <th>Y</th>\n",
       "    </tr>\n",
       "  </thead>\n",
       "  <tbody>\n",
       "    <tr>\n",
       "      <th>0</th>\n",
       "      <td>0.000000</td>\n",
       "      <td>-0.033498</td>\n",
       "    </tr>\n",
       "    <tr>\n",
       "      <th>1</th>\n",
       "      <td>0.010101</td>\n",
       "      <td>-0.028916</td>\n",
       "    </tr>\n",
       "    <tr>\n",
       "      <th>2</th>\n",
       "      <td>0.020202</td>\n",
       "      <td>0.021077</td>\n",
       "    </tr>\n",
       "    <tr>\n",
       "      <th>3</th>\n",
       "      <td>0.030303</td>\n",
       "      <td>0.065874</td>\n",
       "    </tr>\n",
       "    <tr>\n",
       "      <th>4</th>\n",
       "      <td>0.040404</td>\n",
       "      <td>0.301074</td>\n",
       "    </tr>\n",
       "    <tr>\n",
       "      <th>...</th>\n",
       "      <td>...</td>\n",
       "      <td>...</td>\n",
       "    </tr>\n",
       "    <tr>\n",
       "      <th>95</th>\n",
       "      <td>0.959596</td>\n",
       "      <td>-0.192493</td>\n",
       "    </tr>\n",
       "    <tr>\n",
       "      <th>96</th>\n",
       "      <td>0.969697</td>\n",
       "      <td>-0.360793</td>\n",
       "    </tr>\n",
       "    <tr>\n",
       "      <th>97</th>\n",
       "      <td>0.979798</td>\n",
       "      <td>0.178334</td>\n",
       "    </tr>\n",
       "    <tr>\n",
       "      <th>98</th>\n",
       "      <td>0.989899</td>\n",
       "      <td>-0.137827</td>\n",
       "    </tr>\n",
       "    <tr>\n",
       "      <th>99</th>\n",
       "      <td>1.000000</td>\n",
       "      <td>-0.270754</td>\n",
       "    </tr>\n",
       "  </tbody>\n",
       "</table>\n",
       "<p>100 rows × 2 columns</p>\n",
       "</div>"
      ],
      "text/plain": [
       "           X         Y\n",
       "0   0.000000 -0.033498\n",
       "1   0.010101 -0.028916\n",
       "2   0.020202  0.021077\n",
       "3   0.030303  0.065874\n",
       "4   0.040404  0.301074\n",
       "..       ...       ...\n",
       "95  0.959596 -0.192493\n",
       "96  0.969697 -0.360793\n",
       "97  0.979798  0.178334\n",
       "98  0.989899 -0.137827\n",
       "99  1.000000 -0.270754\n",
       "\n",
       "[100 rows x 2 columns]"
      ]
     },
     "execution_count": 82,
     "metadata": {},
     "output_type": "execute_result"
    }
   ],
   "source": [
    "x_100 = np.linspace(0,1,100)     # Gegerate new 100 samples\n",
    "d_100 = np.random.normal(loc=0,scale=0.2,size=100)    # N from the normal gaussian distribution \n",
    "y_100 = 2*math.pi*x_100\n",
    "for i in range(100):\n",
    "    y_100[i] = math.sin(y_100[i])+ d_100[i]\n",
    "data_1 = {'X':x_100, 'Y':y_100}\n",
    "data_100 = pd.DataFrame(data = data_1, dtype=np.int8)\n",
    "data_100"
   ]
  },
  {
   "cell_type": "code",
   "execution_count": 140,
   "metadata": {},
   "outputs": [
    {
     "data": {
      "text/plain": [
       "<matplotlib.collections.PathCollection at 0x1a491b45d0>"
      ]
     },
     "execution_count": 140,
     "metadata": {},
     "output_type": "execute_result"
    },
    {
     "data": {
      "image/png": "[encoded data removed]",
      "text/plain": [
       "<Figure size 432x288 with 1 Axes>"
      ]
     },
     "metadata": {
      "needs_background": "light"
     },
     "output_type": "display_data"
    }
   ],
   "source": [
    "plt.scatter(x_100, y_100, marker = \"o\",c = \"r\")"
   ]
  },
  {
   "cell_type": "code",
   "execution_count": 139,
   "metadata": {},
   "outputs": [
    {
     "data": {
      "text/plain": [
       "<matplotlib.legend.Legend at 0x1a4a4e5350>"
      ]
     },
     "execution_count": 139,
     "metadata": {},
     "output_type": "execute_result"
    },
    {
     "data": {
      "image/png": "[encoded data removed]",
      "text/plain": [
       "<Figure size 432x288 with 1 Axes>"
      ]
     },
     "metadata": {
      "needs_background": "light"
     },
     "output_type": "display_data"
    }
   ],
   "source": [
    "polynomial = PolynomialFeatures(degree = 9)# quadratic polynomial\n",
    "x_transformed = polynomial.fit_transform(x_100.reshape(100,1))\n",
    "poly_linear_model = LinearRegression()\n",
    "poly_linear_model.fit(x_transformed, y_100)# train\n",
    "\n",
    "xx_transformed_9 = polynomial.fit_transform(x_100.reshape(x_100.shape[0], 1))\n",
    "yy = poly_linear_model.predict(xx_transformed_9)\n",
    "plt.plot(x_100, yy,label=\"$y = ax9+.....$\")\n",
    "plt.scatter(x_100, y_100, c = \"r\")\n",
    "plt.legend()"
   ]
  },
  {
   "cell_type": "markdown",
   "metadata": {},
   "source": [
    "## g. Regularize using the sum of weights. \n",
    "## h. Draw chart for lamda\n"
   ]
  },
  {
   "cell_type": "code",
   "execution_count": 347,
   "metadata": {},
   "outputs": [],
   "source": [
    "def regularizeRidge(alpha):\n",
    "    alpha = math.exp(alpha)\n",
    "    print(alpha)\n",
    "    polynomial = PolynomialFeatures(degree = 9)# quadratic polynomial\n",
    "    x_transformed = polynomial.fit_transform(X_train.reshape(10,1))\n",
    "    poly_linear_model = Ridge(alpha = alpha)\n",
    "    poly_linear_model.fit(x_transformed, Y_train)# train\n",
    "    \n",
    "    return poly_linear_model\n",
    "\n",
    "def chartRidge(alpha):\n",
    "    model = regularizeRidge(alpha)\n",
    "    xx = np.linspace(0, 1, 100)\n",
    "    x_transformed = polynomial.fit_transform(xx.reshape(100,1))\n",
    "    yy = model.predict(x_transformed)\n",
    "    plt.plot(xx, yy,label=alpha)\n",
    "    plt.scatter(X_train, Y_train)\n",
    "    plt.scatter(X_test, Y_test, c = 'r')\n",
    "    plt.legend()"
   ]
  },
  {
   "cell_type": "code",
   "execution_count": 411,
   "metadata": {},
   "outputs": [
    {
     "name": "stdout",
     "output_type": "stream",
     "text": [
      "6.305116760146989e-16\n"
     ]
    },
    {
     "name": "stderr",
     "output_type": "stream",
     "text": [
      "/Users/wanghengchao/anaconda3/envs/ML/lib/python3.7/site-packages/sklearn/linear_model/_ridge.py:148: LinAlgWarning: Ill-conditioned matrix (rcond=6.22001e-17): result may not be accurate.\n",
      "  overwrite_a=True).T\n"
     ]
    },
    {
     "data": {
      "image/png": "[encoded data removed]",
      "text/plain": [
       "<Figure size 432x288 with 1 Axes>"
      ]
     },
     "metadata": {
      "needs_background": "light"
     },
     "output_type": "display_data"
    }
   ],
   "source": [
    "chartRidge(-35) #ln(lambda) = -35, lambda = 6.305116760146989e-16"
   ]
  },
  {
   "cell_type": "code",
   "execution_count": 392,
   "metadata": {},
   "outputs": [
    {
     "name": "stdout",
     "output_type": "stream",
     "text": [
      "9.357622968840175e-14\n"
     ]
    },
    {
     "data": {
      "image/png": "[encoded data removed]",
      "text/plain": [
       "<Figure size 432x288 with 1 Axes>"
      ]
     },
     "metadata": {
      "needs_background": "light"
     },
     "output_type": "display_data"
    }
   ],
   "source": [
    "chartRidge(-30)    #ln(lambda) = -30, lambda = 9.357622968840175e-14"
   ]
  },
  {
   "cell_type": "code",
   "execution_count": 393,
   "metadata": {},
   "outputs": [
    {
     "name": "stdout",
     "output_type": "stream",
     "text": [
      "1.3887943864964021e-11\n"
     ]
    },
    {
     "data": {
      "image/png": "[encoded data removed]",
      "text/plain": [
       "<Figure size 432x288 with 1 Axes>"
      ]
     },
     "metadata": {
      "needs_background": "light"
     },
     "output_type": "display_data"
    }
   ],
   "source": [
    "chartRidge(-25)    #ln(lambda) = -25, lambda = 1.3887943864964021e-11"
   ]
  },
  {
   "cell_type": "code",
   "execution_count": 394,
   "metadata": {},
   "outputs": [
    {
     "name": "stdout",
     "output_type": "stream",
     "text": [
      "2.061153622438558e-09\n"
     ]
    },
    {
     "data": {
      "image/png": "[encoded data removed]",
      "text/plain": [
       "<Figure size 432x288 with 1 Axes>"
      ]
     },
     "metadata": {
      "needs_background": "light"
     },
     "output_type": "display_data"
    }
   ],
   "source": [
    "chartRidge(-20)    #ln(lambda) = -20, lambda = 2.061153622438558e-09"
   ]
  },
  {
   "cell_type": "code",
   "execution_count": 395,
   "metadata": {},
   "outputs": [
    {
     "name": "stdout",
     "output_type": "stream",
     "text": [
      "3.059023205018258e-07\n"
     ]
    },
    {
     "data": {
      "image/png": "[encoded data removed]",
      "text/plain": [
       "<Figure size 432x288 with 1 Axes>"
      ]
     },
     "metadata": {
      "needs_background": "light"
     },
     "output_type": "display_data"
    }
   ],
   "source": [
    "chartRidge(-15)    #ln(lambda) = -15, lambda = 3.059023205018258e-07"
   ]
  },
  {
   "cell_type": "markdown",
   "metadata": {},
   "source": [
    "## i. Draw test  and train error according to lamda "
   ]
  },
  {
   "cell_type": "code",
   "execution_count": 378,
   "metadata": {},
   "outputs": [],
   "source": [
    "train_error_ridge = np.zeros(30)\n",
    "test_error_ridge = np.zeros(30)\n",
    "\n",
    "def getErrorRidge(i:int,  model) :     # A new error function\n",
    "    xx_transformed_test = polynomial.fit_transform(X_test.reshape(X_test.shape[0], 1))\n",
    "    xx_transformed_train = polynomial.fit_transform(X_train.reshape(X_train.shape[0], 1))\n",
    "    yy_test = model.predict(xx_transformed_test)\n",
    "    yy_train = model.predict(xx_transformed_train)\n",
    "    test_error_ridge[i] = getMse(Y_test, yy_test)\n",
    "    train_error_ridge[i] = getMse(Y_train, yy_train)"
   ]
  },
  {
   "cell_type": "code",
   "execution_count": 414,
   "metadata": {},
   "outputs": [
    {
     "name": "stdout",
     "output_type": "stream",
     "text": [
      "9.357622968840175e-14\n",
      "2.543665647376923e-13\n",
      "6.914400106940203e-13\n",
      "1.8795288165390832e-12\n",
      "5.109089028063325e-12\n",
      "1.3887943864964021e-11\n",
      "3.775134544279098e-11\n",
      "1.026187963170189e-10\n",
      "2.7894680928689246e-10\n",
      "7.582560427911907e-10\n",
      "2.061153622438558e-09\n",
      "5.602796437537268e-09\n",
      "1.522997974471263e-08\n",
      "4.139937718785167e-08\n",
      "1.1253517471925912e-07\n",
      "3.059023205018258e-07\n",
      "8.315287191035679e-07\n",
      "2.2603294069810542e-06\n",
      "6.14421235332821e-06\n",
      "1.670170079024566e-05\n",
      "4.5399929762484854e-05\n",
      "0.00012340980408667956\n",
      "0.00033546262790251185\n",
      "0.0009118819655545162\n",
      "0.0024787521766663585\n",
      "0.006737946999085467\n",
      "0.01831563888873418\n",
      "0.049787068367863944\n",
      "0.1353352832366127\n",
      "0.36787944117144233\n"
     ]
    }
   ],
   "source": [
    "xx = list(range(-30, 0))\n",
    "for i in xx:\n",
    "    model = regularizeRidge(i)\n",
    "    getErrorRidge(i+30, model)"
   ]
  },
  {
   "cell_type": "code",
   "execution_count": 415,
   "metadata": {},
   "outputs": [
    {
     "data": {
      "text/plain": [
       "<matplotlib.legend.Legend at 0x1a4dfe1a50>"
      ]
     },
     "execution_count": 415,
     "metadata": {},
     "output_type": "execute_result"
    },
    {
     "data": {
      "image/png": "[encoded data removed]",
      "text/plain": [
       "<Figure size 432x288 with 1 Axes>"
      ]
     },
     "metadata": {
      "needs_background": "light"
     },
     "output_type": "display_data"
    }
   ],
   "source": [
    "xx = list(range(-30, 0))\n",
    "plt.ylim(0 ,0.5)\n",
    "plt.xlim(-30,0)\n",
    "plt.plot(xx, test_error_ridge, label = \"$test-error$\", c = 'r')\n",
    "plt.plot(xx, train_error_ridge, label = \"$train-error$\", c = 'b')\n",
    "\n",
    "plt.xlabel('ln(lamdba)')\n",
    "\n",
    "plt.ylabel('Error')\n",
    "plt.legend()"
   ]
  },
  {
   "cell_type": "code",
   "execution_count": 421,
   "metadata": {},
   "outputs": [
    {
     "name": "stdout",
     "output_type": "stream",
     "text": [
      "best ln(lambda) =  -13\n",
      "best lambda =  2.2603294069810542e-06\n"
     ]
    }
   ],
   "source": [
    "#   get the best lambda\n",
    "best_lambda = 0\n",
    "for i in range(-30,0):\n",
    "    if test_error_ridge[i+30] == test_error_ridge.min(): best_lambda = i\n",
    "print(\"best ln(lambda) = \", best_lambda)\n",
    "best_lambda = math.exp(best_lambda)\n",
    "print(\"best lambda = \", best_lambda)"
   ]
  },
  {
   "cell_type": "markdown",
   "metadata": {},
   "source": [
    "### In summary, the model which ln(lamdba) = -13, lambda = 2.2603294069810542e-06 has the best test performance. "
   ]
  }
 ],
 "metadata": {
  "kernelspec": {
   "display_name": "Python 3",
   "language": "python",
   "name": "python3"
  },
  "language_info": {
   "codemirror_mode": {
    "name": "ipython",
    "version": 3
   },
   "file_extension": ".py",
   "mimetype": "text/x-python",
   "name": "python",
   "nbconvert_exporter": "python",
   "pygments_lexer": "ipython3",
   "version": "3.7.6"
  }
 },
 "nbformat": 4,
 "nbformat_minor": 4
}
