{
 "cells": [
  {
   "cell_type": "code",
   "execution_count": 1,
   "metadata": {},
   "outputs": [],
   "source": [
    "import numpy as np\n",
    "import matplotlib.pyplot as plt\n",
    "import math\n",
    "import pandas as pd\n",
    "import sklearn\n",
    "import prettytable as pt\n",
    "import numpy as np\n",
    "import tensorflow as tf\n",
    "\n",
    "from sklearn.pipeline import Pipeline\n",
    "from sklearn.linear_model import Ridge\n",
    "from sklearn.preprocessing import normalize,StandardScaler,PolynomialFeatures  \n",
    "from sklearn import model_selection\n",
    "from sklearn.linear_model import LinearRegression "
   ]
  },
  {
   "cell_type": "code",
   "execution_count": 2,
   "metadata": {},
   "outputs": [],
   "source": [
    "res = {}"
   ]
  },
  {
   "cell_type": "markdown",
   "metadata": {},
   "source": [
    "## a. Generate 20 data pairs (X, Y) using y = sin(2\\*pi\\*X) + N "
   ]
  },
  {
   "cell_type": "code",
   "execution_count": 3,
   "metadata": {},
   "outputs": [
    {
     "name": "stdout",
     "output_type": "stream",
     "text": [
      "[ 0.09096948  0.17355105  0.15875745 -0.01623883 -0.31071585  0.16550497\n",
      " -0.38124526  0.26506175 -0.33448142 -0.31475344 -0.24434632  0.08521682\n",
      " -0.09128369  0.10539469  0.22555599  0.04853751 -0.04680321  0.19909456\n",
      " -0.02539505  0.0706098 ]\n",
      "[0.         0.33069396 0.66138793 0.99208189 1.32277585 1.65346982\n",
      " 1.98416378 2.31485774 2.64555171 2.97624567 3.30693964 3.6376336\n",
      " 3.96832756 4.29902153 4.62971549 4.96040945 5.29110342 5.62179738\n",
      " 5.95249134 6.28318531]\n"
     ]
    }
   ],
   "source": [
    "x_sin = np.linspace(0,1,200)\n",
    "x = np.linspace(0,1,20)\n",
    "d = np.random.normal(loc=0,scale=0.2,size=20)    # N from the normal gaussian distribution \n",
    "print(d)\n",
    "y_sin = 2*math.pi*x_sin\n",
    "y = 2*math.pi*x\n",
    "print(y)\n",
    "for i in range(200):\n",
    "    y_sin[i] = math.sin(y_sin[i])    \n",
    "for i in range(20):\n",
    "    y[i] = math.sin(y[i])+ d[i]"
   ]
  },
  {
   "cell_type": "code",
   "execution_count": 4,
   "metadata": {},
   "outputs": [
    {
     "data": {
      "text/plain": [
       "<matplotlib.collections.PathCollection at 0x1a3ec7ee10>"
      ]
     },
     "execution_count": 4,
     "metadata": {},
     "output_type": "execute_result"
    },
    {
     "data": {
      "image/png": "[encoded data removed]",
      "text/plain": [
       "<Figure size 432x288 with 1 Axes>"
      ]
     },
     "metadata": {
      "needs_background": "light"
     },
     "output_type": "display_data"
    }
   ],
   "source": [
    "plt.plot(x_sin, y_sin, \"r-\")  # original sin function curve\n",
    "plt.scatter(x, y)"
   ]
  },
  {
   "cell_type": "code",
   "execution_count": 5,
   "metadata": {},
   "outputs": [
    {
     "data": {
      "text/html": [
       "<div>\n",
       "<style scoped>\n",
       "    .dataframe tbody tr th:only-of-type {\n",
       "        vertical-align: middle;\n",
       "    }\n",
       "\n",
       "    .dataframe tbody tr th {\n",
       "        vertical-align: top;\n",
       "    }\n",
       "\n",
       "    .dataframe thead th {\n",
       "        text-align: right;\n",
       "    }\n",
       "</style>\n",
       "<table border=\"1\" class=\"dataframe\">\n",
       "  <thead>\n",
       "    <tr style=\"text-align: right;\">\n",
       "      <th></th>\n",
       "      <th>X</th>\n",
       "      <th>Y</th>\n",
       "    </tr>\n",
       "  </thead>\n",
       "  <tbody>\n",
       "    <tr>\n",
       "      <th>0</th>\n",
       "      <td>0.000000</td>\n",
       "      <td>0.090969</td>\n",
       "    </tr>\n",
       "    <tr>\n",
       "      <th>1</th>\n",
       "      <td>0.052632</td>\n",
       "      <td>0.498251</td>\n",
       "    </tr>\n",
       "    <tr>\n",
       "      <th>2</th>\n",
       "      <td>0.105263</td>\n",
       "      <td>0.772970</td>\n",
       "    </tr>\n",
       "    <tr>\n",
       "      <th>3</th>\n",
       "      <td>0.157895</td>\n",
       "      <td>0.820928</td>\n",
       "    </tr>\n",
       "    <tr>\n",
       "      <th>4</th>\n",
       "      <td>0.210526</td>\n",
       "      <td>0.658684</td>\n",
       "    </tr>\n",
       "    <tr>\n",
       "      <th>5</th>\n",
       "      <td>0.263158</td>\n",
       "      <td>1.162089</td>\n",
       "    </tr>\n",
       "    <tr>\n",
       "      <th>6</th>\n",
       "      <td>0.315789</td>\n",
       "      <td>0.534528</td>\n",
       "    </tr>\n",
       "    <tr>\n",
       "      <th>7</th>\n",
       "      <td>0.368421</td>\n",
       "      <td>1.000786</td>\n",
       "    </tr>\n",
       "    <tr>\n",
       "      <th>8</th>\n",
       "      <td>0.421053</td>\n",
       "      <td>0.141466</td>\n",
       "    </tr>\n",
       "    <tr>\n",
       "      <th>9</th>\n",
       "      <td>0.473684</td>\n",
       "      <td>-0.150159</td>\n",
       "    </tr>\n",
       "    <tr>\n",
       "      <th>10</th>\n",
       "      <td>0.526316</td>\n",
       "      <td>-0.408941</td>\n",
       "    </tr>\n",
       "    <tr>\n",
       "      <th>11</th>\n",
       "      <td>0.578947</td>\n",
       "      <td>-0.390731</td>\n",
       "    </tr>\n",
       "    <tr>\n",
       "      <th>12</th>\n",
       "      <td>0.631579</td>\n",
       "      <td>-0.827008</td>\n",
       "    </tr>\n",
       "    <tr>\n",
       "      <th>13</th>\n",
       "      <td>0.684211</td>\n",
       "      <td>-0.810379</td>\n",
       "    </tr>\n",
       "    <tr>\n",
       "      <th>14</th>\n",
       "      <td>0.736842</td>\n",
       "      <td>-0.771029</td>\n",
       "    </tr>\n",
       "    <tr>\n",
       "      <th>15</th>\n",
       "      <td>0.789474</td>\n",
       "      <td>-0.920863</td>\n",
       "    </tr>\n",
       "    <tr>\n",
       "      <th>16</th>\n",
       "      <td>0.842105</td>\n",
       "      <td>-0.883970</td>\n",
       "    </tr>\n",
       "    <tr>\n",
       "      <th>17</th>\n",
       "      <td>0.894737</td>\n",
       "      <td>-0.415118</td>\n",
       "    </tr>\n",
       "    <tr>\n",
       "      <th>18</th>\n",
       "      <td>0.947368</td>\n",
       "      <td>-0.350095</td>\n",
       "    </tr>\n",
       "    <tr>\n",
       "      <th>19</th>\n",
       "      <td>1.000000</td>\n",
       "      <td>0.070610</td>\n",
       "    </tr>\n",
       "  </tbody>\n",
       "</table>\n",
       "</div>"
      ],
      "text/plain": [
       "           X         Y\n",
       "0   0.000000  0.090969\n",
       "1   0.052632  0.498251\n",
       "2   0.105263  0.772970\n",
       "3   0.157895  0.820928\n",
       "4   0.210526  0.658684\n",
       "5   0.263158  1.162089\n",
       "6   0.315789  0.534528\n",
       "7   0.368421  1.000786\n",
       "8   0.421053  0.141466\n",
       "9   0.473684 -0.150159\n",
       "10  0.526316 -0.408941\n",
       "11  0.578947 -0.390731\n",
       "12  0.631579 -0.827008\n",
       "13  0.684211 -0.810379\n",
       "14  0.736842 -0.771029\n",
       "15  0.789474 -0.920863\n",
       "16  0.842105 -0.883970\n",
       "17  0.894737 -0.415118\n",
       "18  0.947368 -0.350095\n",
       "19  1.000000  0.070610"
      ]
     },
     "execution_count": 5,
     "metadata": {},
     "output_type": "execute_result"
    }
   ],
   "source": [
    "data_1 = {'X':x, 'Y':y}\n",
    "data = pd.DataFrame(data = data_1, dtype=np.int8)\n",
    "data"
   ]
  },
  {
   "cell_type": "code",
   "execution_count": 6,
   "metadata": {},
   "outputs": [],
   "source": [
    "X_train,X_test, Y_train, Y_test =model_selection.train_test_split(x, y, test_size=0.5, random_state=3)"
   ]
  },
  {
   "cell_type": "code",
   "execution_count": 7,
   "metadata": {},
   "outputs": [
    {
     "data": {
      "text/html": [
       "<div>\n",
       "<style scoped>\n",
       "    .dataframe tbody tr th:only-of-type {\n",
       "        vertical-align: middle;\n",
       "    }\n",
       "\n",
       "    .dataframe tbody tr th {\n",
       "        vertical-align: top;\n",
       "    }\n",
       "\n",
       "    .dataframe thead th {\n",
       "        text-align: right;\n",
       "    }\n",
       "</style>\n",
       "<table border=\"1\" class=\"dataframe\">\n",
       "  <thead>\n",
       "    <tr style=\"text-align: right;\">\n",
       "      <th></th>\n",
       "      <th>X</th>\n",
       "      <th>Y</th>\n",
       "    </tr>\n",
       "  </thead>\n",
       "  <tbody>\n",
       "    <tr>\n",
       "      <th>0</th>\n",
       "      <td>0.473684</td>\n",
       "      <td>-0.150159</td>\n",
       "    </tr>\n",
       "    <tr>\n",
       "      <th>1</th>\n",
       "      <td>0.578947</td>\n",
       "      <td>-0.390731</td>\n",
       "    </tr>\n",
       "    <tr>\n",
       "      <th>2</th>\n",
       "      <td>1.000000</td>\n",
       "      <td>0.070610</td>\n",
       "    </tr>\n",
       "    <tr>\n",
       "      <th>3</th>\n",
       "      <td>0.947368</td>\n",
       "      <td>-0.350095</td>\n",
       "    </tr>\n",
       "    <tr>\n",
       "      <th>4</th>\n",
       "      <td>0.684211</td>\n",
       "      <td>-0.810379</td>\n",
       "    </tr>\n",
       "    <tr>\n",
       "      <th>5</th>\n",
       "      <td>0.263158</td>\n",
       "      <td>1.162089</td>\n",
       "    </tr>\n",
       "    <tr>\n",
       "      <th>6</th>\n",
       "      <td>0.000000</td>\n",
       "      <td>0.090969</td>\n",
       "    </tr>\n",
       "    <tr>\n",
       "      <th>7</th>\n",
       "      <td>0.421053</td>\n",
       "      <td>0.141466</td>\n",
       "    </tr>\n",
       "    <tr>\n",
       "      <th>8</th>\n",
       "      <td>0.157895</td>\n",
       "      <td>0.820928</td>\n",
       "    </tr>\n",
       "    <tr>\n",
       "      <th>9</th>\n",
       "      <td>0.526316</td>\n",
       "      <td>-0.408941</td>\n",
       "    </tr>\n",
       "  </tbody>\n",
       "</table>\n",
       "</div>"
      ],
      "text/plain": [
       "          X         Y\n",
       "0  0.473684 -0.150159\n",
       "1  0.578947 -0.390731\n",
       "2  1.000000  0.070610\n",
       "3  0.947368 -0.350095\n",
       "4  0.684211 -0.810379\n",
       "5  0.263158  1.162089\n",
       "6  0.000000  0.090969\n",
       "7  0.421053  0.141466\n",
       "8  0.157895  0.820928\n",
       "9  0.526316 -0.408941"
      ]
     },
     "execution_count": 7,
     "metadata": {},
     "output_type": "execute_result"
    }
   ],
   "source": [
    "train = {'X':X_train, 'Y': Y_train}\n",
    "train_data = pd.DataFrame(data = train, dtype=np.int8)\n",
    "train_data"
   ]
  },
  {
   "cell_type": "code",
   "execution_count": 8,
   "metadata": {},
   "outputs": [
    {
     "data": {
      "text/html": [
       "<div>\n",
       "<style scoped>\n",
       "    .dataframe tbody tr th:only-of-type {\n",
       "        vertical-align: middle;\n",
       "    }\n",
       "\n",
       "    .dataframe tbody tr th {\n",
       "        vertical-align: top;\n",
       "    }\n",
       "\n",
       "    .dataframe thead th {\n",
       "        text-align: right;\n",
       "    }\n",
       "</style>\n",
       "<table border=\"1\" class=\"dataframe\">\n",
       "  <thead>\n",
       "    <tr style=\"text-align: right;\">\n",
       "      <th></th>\n",
       "      <th>X</th>\n",
       "      <th>Y</th>\n",
       "    </tr>\n",
       "  </thead>\n",
       "  <tbody>\n",
       "    <tr>\n",
       "      <th>0</th>\n",
       "      <td>0.736842</td>\n",
       "      <td>-0.771029</td>\n",
       "    </tr>\n",
       "    <tr>\n",
       "      <th>1</th>\n",
       "      <td>0.105263</td>\n",
       "      <td>0.772970</td>\n",
       "    </tr>\n",
       "    <tr>\n",
       "      <th>2</th>\n",
       "      <td>0.052632</td>\n",
       "      <td>0.498251</td>\n",
       "    </tr>\n",
       "    <tr>\n",
       "      <th>3</th>\n",
       "      <td>0.894737</td>\n",
       "      <td>-0.415118</td>\n",
       "    </tr>\n",
       "    <tr>\n",
       "      <th>4</th>\n",
       "      <td>0.210526</td>\n",
       "      <td>0.658684</td>\n",
       "    </tr>\n",
       "    <tr>\n",
       "      <th>5</th>\n",
       "      <td>0.842105</td>\n",
       "      <td>-0.883970</td>\n",
       "    </tr>\n",
       "    <tr>\n",
       "      <th>6</th>\n",
       "      <td>0.315789</td>\n",
       "      <td>0.534528</td>\n",
       "    </tr>\n",
       "    <tr>\n",
       "      <th>7</th>\n",
       "      <td>0.368421</td>\n",
       "      <td>1.000786</td>\n",
       "    </tr>\n",
       "    <tr>\n",
       "      <th>8</th>\n",
       "      <td>0.789474</td>\n",
       "      <td>-0.920863</td>\n",
       "    </tr>\n",
       "    <tr>\n",
       "      <th>9</th>\n",
       "      <td>0.631579</td>\n",
       "      <td>-0.827008</td>\n",
       "    </tr>\n",
       "  </tbody>\n",
       "</table>\n",
       "</div>"
      ],
      "text/plain": [
       "          X         Y\n",
       "0  0.736842 -0.771029\n",
       "1  0.105263  0.772970\n",
       "2  0.052632  0.498251\n",
       "3  0.894737 -0.415118\n",
       "4  0.210526  0.658684\n",
       "5  0.842105 -0.883970\n",
       "6  0.315789  0.534528\n",
       "7  0.368421  1.000786\n",
       "8  0.789474 -0.920863\n",
       "9  0.631579 -0.827008"
      ]
     },
     "execution_count": 8,
     "metadata": {},
     "output_type": "execute_result"
    }
   ],
   "source": [
    "test = {'X':X_test, 'Y': Y_test}\n",
    "test_data = pd.DataFrame(data = test, dtype=np.int8)\n",
    "test_data"
   ]
  },
  {
   "cell_type": "code",
   "execution_count": 9,
   "metadata": {},
   "outputs": [
    {
     "data": {
      "text/plain": [
       "<matplotlib.collections.PathCollection at 0x1a3ee09650>"
      ]
     },
     "execution_count": 9,
     "metadata": {},
     "output_type": "execute_result"
    },
    {
     "data": {
      "image/png": "[encoded data removed]",
      "text/plain": [
       "<Figure size 432x288 with 1 Axes>"
      ]
     },
     "metadata": {
      "needs_background": "light"
     },
     "output_type": "display_data"
    }
   ],
   "source": [
    "plt.scatter(X_train, Y_train)\n",
    "plt.scatter(X_test, Y_test, c = 'r')"
   ]
  },
  {
   "cell_type": "markdown",
   "metadata": {},
   "source": [
    "## b. Using room mean square error, find weights of polynomial regression for order is 0, 1, 3, 9"
   ]
  },
  {
   "cell_type": "code",
   "execution_count": 10,
   "metadata": {},
   "outputs": [],
   "source": [
    "def  polynomialRegression(i:int ) :\n",
    "    polynomial = PolynomialFeatures(degree = i)# quadratic polynomial\n",
    "    x_transformed = polynomial.fit_transform(X_train.reshape(10,1))\n",
    "    poly_linear_model = LinearRegression()\n",
    "    poly_linear_model.fit(x_transformed, Y_train)# train\n",
    "    return polynomial, poly_linear_model"
   ]
  },
  {
   "cell_type": "markdown",
   "metadata": {},
   "source": [
    "### weights of polynomial regression for order is 0"
   ]
  },
  {
   "cell_type": "code",
   "execution_count": 11,
   "metadata": {},
   "outputs": [
    {
     "data": {
      "text/plain": [
       "array([0.])"
      ]
     },
     "execution_count": 11,
     "metadata": {},
     "output_type": "execute_result"
    }
   ],
   "source": [
    "polynomial_0, poly_linear_model_0 = polynomialRegression(0) \n",
    "\n",
    "coef = poly_linear_model_0.coef_\n",
    "tmp = [0]*10\n",
    "for i in range(len(coef)) :\n",
    "    tmp[i] = int(coef[i])\n",
    "res['0'] = tmp\n",
    "coef"
   ]
  },
  {
   "cell_type": "markdown",
   "metadata": {},
   "source": [
    "### weights of polynomial regression for order is 1"
   ]
  },
  {
   "cell_type": "code",
   "execution_count": 12,
   "metadata": {},
   "outputs": [
    {
     "data": {
      "text/plain": [
       "array([ 0.        , -1.00122911])"
      ]
     },
     "execution_count": 12,
     "metadata": {},
     "output_type": "execute_result"
    }
   ],
   "source": [
    "\n",
    "polynomial_1, poly_linear_model_1 = polynomialRegression(1)\n",
    " \n",
    "coef = poly_linear_model_1.coef_\n",
    "tmp = [0]*10\n",
    "for i in range(len(coef)) :\n",
    "    tmp[i] = int(coef[i])\n",
    "res['1'] = tmp\n",
    "coef"
   ]
  },
  {
   "cell_type": "markdown",
   "metadata": {},
   "source": [
    "### weights of polynomial regression for order is 3"
   ]
  },
  {
   "cell_type": "code",
   "execution_count": 13,
   "metadata": {},
   "outputs": [
    {
     "data": {
      "text/plain": [
       "array([  0.        ,   9.23795405, -29.68640841,  20.45701177])"
      ]
     },
     "execution_count": 13,
     "metadata": {},
     "output_type": "execute_result"
    }
   ],
   "source": [
    "polynomial_3, poly_linear_model_3 = polynomialRegression(3)\n",
    " \n",
    "coef = poly_linear_model_3.coef_\n",
    "tmp = [0]*10\n",
    "for i in range(len(coef)) :\n",
    "    tmp[i] = int(coef[i])\n",
    "res['3'] = tmp\n",
    "coef"
   ]
  },
  {
   "cell_type": "markdown",
   "metadata": {},
   "source": [
    "### weights of polynomial regression for order is 9"
   ]
  },
  {
   "cell_type": "code",
   "execution_count": 14,
   "metadata": {},
   "outputs": [
    {
     "data": {
      "text/plain": [
       "array([ 0.00000000e+00, -6.82973462e+02,  1.35408646e+04, -1.09114700e+05,\n",
       "        4.75273573e+05, -1.23415196e+06,  1.96513606e+06, -1.87916231e+06,\n",
       "        9.88825954e+05, -2.19664522e+05])"
      ]
     },
     "execution_count": 14,
     "metadata": {},
     "output_type": "execute_result"
    }
   ],
   "source": [
    "polynomial_9, poly_linear_model_9 = polynomialRegression(9)\n",
    "coef = poly_linear_model_9.coef_\n",
    "tmp = [0]*10\n",
    "for i in range(len(coef)) :\n",
    "    tmp[i] = int(coef[i])\n",
    "res['9'] = tmp\n",
    "coef"
   ]
  },
  {
   "cell_type": "markdown",
   "metadata": {},
   "source": [
    "## c. Display weights in table "
   ]
  },
  {
   "cell_type": "code",
   "execution_count": 15,
   "metadata": {},
   "outputs": [
    {
     "name": "stdout",
     "output_type": "stream",
     "text": [
      "+-------------+---+----+-----+----------+\n",
      "| label\\order | 0 | 1  |  3  |    9     |\n",
      "+-------------+---+----+-----+----------+\n",
      "|      W0     | 0 | 0  |  0  |    0     |\n",
      "|      W1     | 0 | -1 |  9  |   -682   |\n",
      "|      W2     | 0 | 0  | -29 |  13540   |\n",
      "|      W3     | 0 | 0  |  20 | -109114  |\n",
      "|      W4     | 0 | 0  |  0  |  475273  |\n",
      "|      W5     | 0 | 0  |  0  | -1234151 |\n",
      "|      W6     | 0 | 0  |  0  | 1965136  |\n",
      "|      W7     | 0 | 0  |  0  | -1879162 |\n",
      "|      W8     | 0 | 0  |  0  |  988825  |\n",
      "|      W9     | 0 | 0  |  0  | -219664  |\n",
      "+-------------+---+----+-----+----------+\n"
     ]
    }
   ],
   "source": [
    "from prettytable import PrettyTable\n",
    "x= PrettyTable()\n",
    "x.add_column(\"label\\order\", [\"W0\",\"W1\",\"W2\",\"W3\",\"W4\",\"W5\",\"W6\",\"W7\",\"W8\",\"W9\"])\n",
    "x.add_column(\"0\", res[\"0\"])\n",
    "x.add_column(\"1\", res[\"1\"])\n",
    "x.add_column(\"3\", res[\"3\"])\n",
    "x.add_column(\"9\", res[\"9\"])\n",
    "print(x)\n",
    "# the label 0, W0 in the table is the weights of polynomial regression for order is 0\n",
    "# the label 1, W0 and W1 in the table is the weights of polynomial regression for order is 1\n",
    "# the label 3, W0, W1, W2 and W3 in the table is the weights of polynomial regression for order is 3\n",
    "# the label 9, W0-W9 in the table is the weights of polynomial regression for order is 9"
   ]
  },
  {
   "cell_type": "markdown",
   "metadata": {},
   "source": [
    "## d. Draw a chart of fit data\n",
    "### weights of polynomial regression for order is 0"
   ]
  },
  {
   "cell_type": "code",
   "execution_count": 16,
   "metadata": {},
   "outputs": [
    {
     "data": {
      "text/plain": [
       "<matplotlib.legend.Legend at 0x1a3ef0d3d0>"
      ]
     },
     "execution_count": 16,
     "metadata": {},
     "output_type": "execute_result"
    },
    {
     "data": {
      "image/png": "[encoded data removed]",
      "text/plain": [
       "<Figure size 432x288 with 1 Axes>"
      ]
     },
     "metadata": {
      "needs_background": "light"
     },
     "output_type": "display_data"
    }
   ],
   "source": [
    "xx = np.linspace(0, 1, 100)\n",
    "xx_transformed_0 = polynomial_0.fit_transform(xx.reshape(xx.shape[0], 1))\n",
    "yy = poly_linear_model_0.predict(xx_transformed_0)\n",
    "plt.plot(xx, yy,label=\"$y = N$\")\n",
    "plt.scatter(X_train, Y_train)\n",
    "plt.scatter(X_test, Y_test, c = 'r')\n",
    "plt.legend()"
   ]
  },
  {
   "cell_type": "markdown",
   "metadata": {},
   "source": [
    "### weights of polynomial regression for order is 1"
   ]
  },
  {
   "cell_type": "code",
   "execution_count": 17,
   "metadata": {},
   "outputs": [
    {
     "data": {
      "text/plain": [
       "<matplotlib.legend.Legend at 0x1a3f022f90>"
      ]
     },
     "execution_count": 17,
     "metadata": {},
     "output_type": "execute_result"
    },
    {
     "data": {
      "image/png": "[encoded data removed]",
      "text/plain": [
       "<Figure size 432x288 with 1 Axes>"
      ]
     },
     "metadata": {
      "needs_background": "light"
     },
     "output_type": "display_data"
    }
   ],
   "source": [
    "xx = np.linspace(0, 1, 100)\n",
    "xx_transformed_1 = polynomial_1.fit_transform(xx.reshape(xx.shape[0], 1))\n",
    "yy = poly_linear_model_1.predict(xx_transformed_1)\n",
    "plt.plot(xx, yy,label=\"$y = ax$\")\n",
    "plt.scatter(X_train, Y_train)\n",
    "plt.scatter(X_test, Y_test, c = 'r')\n",
    "plt.legend()"
   ]
  },
  {
   "cell_type": "markdown",
   "metadata": {},
   "source": [
    "### weights of polynomial regression for order is 3"
   ]
  },
  {
   "cell_type": "code",
   "execution_count": 18,
   "metadata": {},
   "outputs": [
    {
     "data": {
      "text/plain": [
       "<matplotlib.legend.Legend at 0x1a3f106210>"
      ]
     },
     "execution_count": 18,
     "metadata": {},
     "output_type": "execute_result"
    },
    {
     "data": {
      "image/png": "[encoded data removed]",
      "text/plain": [
       "<Figure size 432x288 with 1 Axes>"
      ]
     },
     "metadata": {
      "needs_background": "light"
     },
     "output_type": "display_data"
    }
   ],
   "source": [
    "xx = np.linspace(0, 1, 100)\n",
    "xx_transformed_3 = polynomial_3.fit_transform(xx.reshape(xx.shape[0], 1))\n",
    "yy = poly_linear_model_3.predict(xx_transformed_3)\n",
    "plt.plot(xx, yy,label=\"$y = ax3+bx2+cx+d$\")\n",
    "plt.scatter(X_train, Y_train)\n",
    "plt.scatter(X_test, Y_test, c = 'r')\n",
    "plt.legend()"
   ]
  },
  {
   "cell_type": "markdown",
   "metadata": {},
   "source": [
    "### weights of polynomial regression for order is 9"
   ]
  },
  {
   "cell_type": "code",
   "execution_count": 19,
   "metadata": {},
   "outputs": [
    {
     "data": {
      "text/plain": [
       "<matplotlib.legend.Legend at 0x1a3f27ef10>"
      ]
     },
     "execution_count": 19,
     "metadata": {},
     "output_type": "execute_result"
    },
    {
     "data": {
      "image/png": "[encoded data removed]",
      "text/plain": [
       "<Figure size 432x288 with 1 Axes>"
      ]
     },
     "metadata": {
      "needs_background": "light"
     },
     "output_type": "display_data"
    }
   ],
   "source": [
    "xx = np.linspace(0, 1, 100)\n",
    "xx_transformed_9 = polynomial_9.fit_transform(xx.reshape(xx.shape[0], 1))\n",
    "yy = poly_linear_model_9.predict(xx_transformed_9)\n",
    "plt.plot(xx, yy,label=\"$y = ax9+....$\")\n",
    "plt.scatter(X_train, Y_train)\n",
    "plt.scatter(X_test, Y_test, c = 'r')\n",
    "plt.ylim(-1.5 ,1.5)\n",
    "plt.legend()"
   ]
  },
  {
   "cell_type": "markdown",
   "metadata": {},
   "source": [
    "## e. Draw train error vs test error"
   ]
  },
  {
   "cell_type": "code",
   "execution_count": 20,
   "metadata": {},
   "outputs": [],
   "source": [
    "train_error = [0]*10     #train error\n",
    "test_error = [0]*10      #test error"
   ]
  },
  {
   "cell_type": "code",
   "execution_count": 21,
   "metadata": {},
   "outputs": [],
   "source": [
    "def getMse(Y, yy):\n",
    "    standard = tf.square(Y - yy)\n",
    "    mse = tf.reduce_mean(standard)\n",
    "    return mse.numpy()"
   ]
  },
  {
   "cell_type": "code",
   "execution_count": 22,
   "metadata": {},
   "outputs": [],
   "source": [
    "def getError(i:int,  model) :\n",
    "    polynomial = PolynomialFeatures(degree = i)\n",
    "    xx_transformed_test = polynomial.fit_transform(X_test.reshape(X_test.shape[0], 1))\n",
    "    xx_transformed_train = polynomial.fit_transform(X_train.reshape(X_test.shape[0], 1))\n",
    "    yy_test = model.predict(xx_transformed_test)\n",
    "    yy_train = model.predict(xx_transformed_train)\n",
    "\n",
    "    test_error[i] = getMse(Y_test, yy_test)\n",
    "\n",
    "    train_error[i] = getMse(Y_train, yy_train)"
   ]
  },
  {
   "cell_type": "code",
   "execution_count": 23,
   "metadata": {},
   "outputs": [
    {
     "name": "stdout",
     "output_type": "stream",
     "text": [
      "[0.5662523578882789, 0.2643029888805816, 0.2593671515453373, 0.05351310996866754, 0.050762797213742904, 0.04833741944413855, 0.08171611630662265, 0.2621090543897876, 0.5917676041935771, 33.380434185302974]\n",
      "[0.31762892708312246, 0.22532487945826274, 0.20952985929358067, 0.018930992029006347, 0.015323726721909953, 0.01518406953696248, 0.007216818285745008, 0.0012007932881938131, 0.00046564860251404797, 1.755614952261046e-21]\n"
     ]
    }
   ],
   "source": [
    "polynomial_2, poly_linear_model_2 = polynomialRegression(2)\n",
    "polynomial_4, poly_linear_model_4 = polynomialRegression(4)\n",
    "polynomial_5, poly_linear_model_5 = polynomialRegression(5)\n",
    "polynomial_6, poly_linear_model_6 = polynomialRegression(6)\n",
    "polynomial_7, poly_linear_model_7 = polynomialRegression(7)\n",
    "polynomial_8, poly_linear_model_8 = polynomialRegression(8)\n",
    "# 0,1,3,9 I used the model fitted before.\n",
    "getError(0, poly_linear_model_0)\n",
    "getError(1, poly_linear_model_1)\n",
    "getError(2, poly_linear_model_2)\n",
    "getError(3, poly_linear_model_3)\n",
    "getError(4, poly_linear_model_4)\n",
    "getError(5, poly_linear_model_5)\n",
    "getError(6, poly_linear_model_6)\n",
    "getError(7, poly_linear_model_7)\n",
    "getError(8, poly_linear_model_8)\n",
    "getError(9, poly_linear_model_9)\n",
    "\n",
    "print(test_error)\n",
    "print(train_error)"
   ]
  },
  {
   "cell_type": "code",
   "execution_count": 24,
   "metadata": {},
   "outputs": [
    {
     "data": {
      "text/plain": [
       "<matplotlib.legend.Legend at 0x1a3f382310>"
      ]
     },
     "execution_count": 24,
     "metadata": {},
     "output_type": "execute_result"
    },
    {
     "data": {
      "image/png": "[encoded data removed]",
      "text/plain": [
       "<Figure size 432x288 with 1 Axes>"
      ]
     },
     "metadata": {
      "needs_background": "light"
     },
     "output_type": "display_data"
    }
   ],
   "source": [
    "xx = np.linspace(0, 9, 10)\n",
    "plt.ylim(0 ,1)\n",
    "plt.xlim(0,9)\n",
    "plt.plot(xx, test_error, label = \"$test error$\", c = 'r')\n",
    "plt.plot(xx, train_error, label = \"$train error$\", c = 'b')\n",
    "\n",
    "plt.xlabel('Orders')\n",
    "\n",
    "plt.ylabel('Error')\n",
    "plt.legend()"
   ]
  },
  {
   "cell_type": "markdown",
   "metadata": {},
   "source": [
    "## f. Generate 100 more data and fit 9th order model and draw fit"
   ]
  },
  {
   "cell_type": "code",
   "execution_count": 25,
   "metadata": {},
   "outputs": [
    {
     "data": {
      "text/html": [
       "<div>\n",
       "<style scoped>\n",
       "    .dataframe tbody tr th:only-of-type {\n",
       "        vertical-align: middle;\n",
       "    }\n",
       "\n",
       "    .dataframe tbody tr th {\n",
       "        vertical-align: top;\n",
       "    }\n",
       "\n",
       "    .dataframe thead th {\n",
       "        text-align: right;\n",
       "    }\n",
       "</style>\n",
       "<table border=\"1\" class=\"dataframe\">\n",
       "  <thead>\n",
       "    <tr style=\"text-align: right;\">\n",
       "      <th></th>\n",
       "      <th>X</th>\n",
       "      <th>Y</th>\n",
       "    </tr>\n",
       "  </thead>\n",
       "  <tbody>\n",
       "    <tr>\n",
       "      <th>0</th>\n",
       "      <td>0.000000</td>\n",
       "      <td>-0.137855</td>\n",
       "    </tr>\n",
       "    <tr>\n",
       "      <th>1</th>\n",
       "      <td>0.010101</td>\n",
       "      <td>0.038821</td>\n",
       "    </tr>\n",
       "    <tr>\n",
       "      <th>2</th>\n",
       "      <td>0.020202</td>\n",
       "      <td>0.106376</td>\n",
       "    </tr>\n",
       "    <tr>\n",
       "      <th>3</th>\n",
       "      <td>0.030303</td>\n",
       "      <td>0.116027</td>\n",
       "    </tr>\n",
       "    <tr>\n",
       "      <th>4</th>\n",
       "      <td>0.040404</td>\n",
       "      <td>-0.202534</td>\n",
       "    </tr>\n",
       "    <tr>\n",
       "      <th>...</th>\n",
       "      <td>...</td>\n",
       "      <td>...</td>\n",
       "    </tr>\n",
       "    <tr>\n",
       "      <th>95</th>\n",
       "      <td>0.959596</td>\n",
       "      <td>-0.222748</td>\n",
       "    </tr>\n",
       "    <tr>\n",
       "      <th>96</th>\n",
       "      <td>0.969697</td>\n",
       "      <td>0.168313</td>\n",
       "    </tr>\n",
       "    <tr>\n",
       "      <th>97</th>\n",
       "      <td>0.979798</td>\n",
       "      <td>-0.249724</td>\n",
       "    </tr>\n",
       "    <tr>\n",
       "      <th>98</th>\n",
       "      <td>0.989899</td>\n",
       "      <td>0.203586</td>\n",
       "    </tr>\n",
       "    <tr>\n",
       "      <th>99</th>\n",
       "      <td>1.000000</td>\n",
       "      <td>-0.266000</td>\n",
       "    </tr>\n",
       "  </tbody>\n",
       "</table>\n",
       "<p>100 rows × 2 columns</p>\n",
       "</div>"
      ],
      "text/plain": [
       "           X         Y\n",
       "0   0.000000 -0.137855\n",
       "1   0.010101  0.038821\n",
       "2   0.020202  0.106376\n",
       "3   0.030303  0.116027\n",
       "4   0.040404 -0.202534\n",
       "..       ...       ...\n",
       "95  0.959596 -0.222748\n",
       "96  0.969697  0.168313\n",
       "97  0.979798 -0.249724\n",
       "98  0.989899  0.203586\n",
       "99  1.000000 -0.266000\n",
       "\n",
       "[100 rows x 2 columns]"
      ]
     },
     "execution_count": 25,
     "metadata": {},
     "output_type": "execute_result"
    }
   ],
   "source": [
    "x_100 = np.linspace(0,1,100)     # Gegerate new 100 samples\n",
    "d_100 = np.random.normal(loc=0,scale=0.2,size=100)    # N from the normal gaussian distribution \n",
    "y_100 = 2*math.pi*x_100\n",
    "for i in range(100):\n",
    "    y_100[i] = math.sin(y_100[i])+ d_100[i]\n",
    "data_1 = {'X':x_100, 'Y':y_100}\n",
    "data_100 = pd.DataFrame(data = data_1, dtype=np.int8)\n",
    "data_100"
   ]
  },
  {
   "cell_type": "code",
   "execution_count": 26,
   "metadata": {},
   "outputs": [
    {
     "data": {
      "text/plain": [
       "<matplotlib.collections.PathCollection at 0x1a3f2fc850>"
      ]
     },
     "execution_count": 26,
     "metadata": {},
     "output_type": "execute_result"
    },
    {
     "data": {
      "image/png": "[encoded data removed]",
      "text/plain": [
       "<Figure size 432x288 with 1 Axes>"
      ]
     },
     "metadata": {
      "needs_background": "light"
     },
     "output_type": "display_data"
    }
   ],
   "source": [
    "plt.scatter(x_100, y_100, marker = \"o\",c = \"r\")"
   ]
  },
  {
   "cell_type": "code",
   "execution_count": 27,
   "metadata": {},
   "outputs": [
    {
     "data": {
      "text/plain": [
       "<matplotlib.legend.Legend at 0x1a3f6052d0>"
      ]
     },
     "execution_count": 27,
     "metadata": {},
     "output_type": "execute_result"
    },
    {
     "data": {
      "image/png": "[encoded data removed]",
      "text/plain": [
       "<Figure size 432x288 with 1 Axes>"
      ]
     },
     "metadata": {
      "needs_background": "light"
     },
     "output_type": "display_data"
    }
   ],
   "source": [
    "polynomial = PolynomialFeatures(degree = 9)# quadratic polynomial\n",
    "x_transformed = polynomial.fit_transform(x_100.reshape(100,1))\n",
    "poly_linear_model = LinearRegression()\n",
    "poly_linear_model.fit(x_transformed, y_100)# train\n",
    "\n",
    "xx_transformed_9 = polynomial.fit_transform(x_100.reshape(x_100.shape[0], 1))\n",
    "yy = poly_linear_model.predict(xx_transformed_9)\n",
    "plt.plot(x_100, yy,label=\"$y = ax9+.....$\")\n",
    "plt.scatter(x_100, y_100, c = \"r\")\n",
    "plt.legend()"
   ]
  },
  {
   "cell_type": "markdown",
   "metadata": {},
   "source": [
    "## g. Regularize using the sum of weights. \n",
    "## h. Draw chart for lamda\n"
   ]
  },
  {
   "cell_type": "code",
   "execution_count": 28,
   "metadata": {},
   "outputs": [],
   "source": [
    "def regularizeRidge(alpha):\n",
    "    alpha = math.exp(alpha)\n",
    "    print(alpha)\n",
    "    polynomial = PolynomialFeatures(degree = 9)# quadratic polynomial\n",
    "    x_transformed = polynomial.fit_transform(X_train.reshape(10,1))\n",
    "    poly_linear_model = Ridge(alpha = alpha)\n",
    "    poly_linear_model.fit(x_transformed, Y_train)# train\n",
    "    \n",
    "    return poly_linear_model\n",
    "\n",
    "def chartRidge(alpha):\n",
    "    model = regularizeRidge(alpha)\n",
    "    xx = np.linspace(0, 1, 100)\n",
    "    x_transformed = polynomial.fit_transform(xx.reshape(100,1))\n",
    "    yy = model.predict(x_transformed)\n",
    "    plt.plot(xx, yy,label=alpha)\n",
    "    plt.scatter(X_train, Y_train)\n",
    "    plt.scatter(X_test, Y_test, c = 'r')\n",
    "    plt.legend()"
   ]
  },
  {
   "cell_type": "code",
   "execution_count": 29,
   "metadata": {},
   "outputs": [
    {
     "name": "stdout",
     "output_type": "stream",
     "text": [
      "6.305116760146989e-16\n"
     ]
    },
    {
     "name": "stderr",
     "output_type": "stream",
     "text": [
      "/Users/wanghengchao/anaconda3/envs/ML/lib/python3.7/site-packages/sklearn/linear_model/_ridge.py:148: LinAlgWarning: Ill-conditioned matrix (rcond=6.22001e-17): result may not be accurate.\n",
      "  overwrite_a=True).T\n"
     ]
    },
    {
     "data": {
      "image/png": "[encoded data removed]",
      "text/plain": [
       "<Figure size 432x288 with 1 Axes>"
      ]
     },
     "metadata": {
      "needs_background": "light"
     },
     "output_type": "display_data"
    }
   ],
   "source": [
    "chartRidge(-35) #ln(lambda) = -35, lambda = 6.305116760146989e-16"
   ]
  },
  {
   "cell_type": "code",
   "execution_count": 30,
   "metadata": {},
   "outputs": [
    {
     "name": "stdout",
     "output_type": "stream",
     "text": [
      "9.357622968840175e-14\n"
     ]
    },
    {
     "data": {
      "image/png": "[encoded data removed]",
      "text/plain": [
       "<Figure size 432x288 with 1 Axes>"
      ]
     },
     "metadata": {
      "needs_background": "light"
     },
     "output_type": "display_data"
    }
   ],
   "source": [
    "chartRidge(-30)    #ln(lambda) = -30, lambda = 9.357622968840175e-14"
   ]
  },
  {
   "cell_type": "code",
   "execution_count": 31,
   "metadata": {},
   "outputs": [
    {
     "name": "stdout",
     "output_type": "stream",
     "text": [
      "1.3887943864964021e-11\n"
     ]
    },
    {
     "data": {
      "image/png": "[encoded data removed]",
      "text/plain": [
       "<Figure size 432x288 with 1 Axes>"
      ]
     },
     "metadata": {
      "needs_background": "light"
     },
     "output_type": "display_data"
    }
   ],
   "source": [
    "chartRidge(-25)    #ln(lambda) = -25, lambda = 1.3887943864964021e-11"
   ]
  },
  {
   "cell_type": "code",
   "execution_count": 32,
   "metadata": {},
   "outputs": [
    {
     "name": "stdout",
     "output_type": "stream",
     "text": [
      "2.061153622438558e-09\n"
     ]
    },
    {
     "data": {
      "image/png": "[encoded data removed]",
      "text/plain": [
       "<Figure size 432x288 with 1 Axes>"
      ]
     },
     "metadata": {
      "needs_background": "light"
     },
     "output_type": "display_data"
    }
   ],
   "source": [
    "chartRidge(-20)    #ln(lambda) = -20, lambda = 2.061153622438558e-09"
   ]
  },
  {
   "cell_type": "code",
   "execution_count": 33,
   "metadata": {},
   "outputs": [
    {
     "name": "stdout",
     "output_type": "stream",
     "text": [
      "3.059023205018258e-07\n"
     ]
    },
    {
     "data": {
      "image/png": "[encoded data removed]",
      "text/plain": [
       "<Figure size 432x288 with 1 Axes>"
      ]
     },
     "metadata": {
      "needs_background": "light"
     },
     "output_type": "display_data"
    }
   ],
   "source": [
    "chartRidge(-15)    #ln(lambda) = -15, lambda = 3.059023205018258e-07"
   ]
  },
  {
   "cell_type": "markdown",
   "metadata": {},
   "source": [
    "## i. Draw test  and train error according to lamda "
   ]
  },
  {
   "cell_type": "code",
   "execution_count": 34,
   "metadata": {},
   "outputs": [],
   "source": [
    "train_error_ridge = np.zeros(30)\n",
    "test_error_ridge = np.zeros(30)\n",
    "\n",
    "def getErrorRidge(i:int,  model) :     # A new error function\n",
    "    xx_transformed_test = polynomial.fit_transform(X_test.reshape(X_test.shape[0], 1))\n",
    "    xx_transformed_train = polynomial.fit_transform(X_train.reshape(X_train.shape[0], 1))\n",
    "    yy_test = model.predict(xx_transformed_test)\n",
    "    yy_train = model.predict(xx_transformed_train)\n",
    "    test_error_ridge[i] = getMse(Y_test, yy_test)\n",
    "    train_error_ridge[i] = getMse(Y_train, yy_train)"
   ]
  },
  {
   "cell_type": "code",
   "execution_count": 35,
   "metadata": {},
   "outputs": [
    {
     "name": "stdout",
     "output_type": "stream",
     "text": [
      "9.357622968840175e-14\n",
      "2.543665647376923e-13\n",
      "6.914400106940203e-13\n",
      "1.8795288165390832e-12\n",
      "5.109089028063325e-12\n",
      "1.3887943864964021e-11\n",
      "3.775134544279098e-11\n",
      "1.026187963170189e-10\n",
      "2.7894680928689246e-10\n",
      "7.582560427911907e-10\n",
      "2.061153622438558e-09\n",
      "5.602796437537268e-09\n",
      "1.522997974471263e-08\n",
      "4.139937718785167e-08\n",
      "1.1253517471925912e-07\n",
      "3.059023205018258e-07\n",
      "8.315287191035679e-07\n",
      "2.2603294069810542e-06\n",
      "6.14421235332821e-06\n",
      "1.670170079024566e-05\n",
      "4.5399929762484854e-05\n",
      "0.00012340980408667956\n",
      "0.00033546262790251185\n",
      "0.0009118819655545162\n",
      "0.0024787521766663585\n",
      "0.006737946999085467\n",
      "0.01831563888873418\n",
      "0.049787068367863944\n",
      "0.1353352832366127\n",
      "0.36787944117144233\n"
     ]
    }
   ],
   "source": [
    "xx = list(range(-30, 0))\n",
    "for i in xx:\n",
    "    model = regularizeRidge(i)\n",
    "    getErrorRidge(i+30, model)"
   ]
  },
  {
   "cell_type": "code",
   "execution_count": 36,
   "metadata": {},
   "outputs": [
    {
     "data": {
      "text/plain": [
       "<matplotlib.legend.Legend at 0x1a3ff23c50>"
      ]
     },
     "execution_count": 36,
     "metadata": {},
     "output_type": "execute_result"
    },
    {
     "data": {
      "image/png": "[encoded data removed]",
      "text/plain": [
       "<Figure size 432x288 with 1 Axes>"
      ]
     },
     "metadata": {
      "needs_background": "light"
     },
     "output_type": "display_data"
    }
   ],
   "source": [
    "xx = list(range(-30, 0))\n",
    "plt.ylim(0 ,0.5)\n",
    "plt.xlim(-30,0)\n",
    "plt.plot(xx, test_error_ridge, label = \"$test-error$\", c = 'r')\n",
    "plt.plot(xx, train_error_ridge, label = \"$train-error$\", c = 'b')\n",
    "\n",
    "plt.xlabel('ln(lamdba)')\n",
    "\n",
    "plt.ylabel('Error')\n",
    "plt.legend()"
   ]
  },
  {
   "cell_type": "code",
   "execution_count": 39,
   "metadata": {},
   "outputs": [
    {
     "name": "stdout",
     "output_type": "stream",
     "text": [
      "best ln(lambda) =  -9\n",
      "best lambda =  0.00012340980408667956\n",
      "In summary, the model which ln(lamdba) =  -9 , lambda =  0.00012340980408667956  has the best test performance.\n"
     ]
    }
   ],
   "source": [
    "#   get the best lambda\n",
    "best_lambda = 0\n",
    "for i in range(-30,0):\n",
    "    if test_error_ridge[i+30] == test_error_ridge.min(): best_lambda = i\n",
    "print(\"best ln(lambda) = \", best_lambda)\n",
    "best_lambda_0 = math.exp(best_lambda)\n",
    "print(\"best lambda = \", best_lambda_0)\n",
    "print(\"In summary, the model which ln(lamdba) = \",best_lambda,\", lambda = \",best_lambda_0,\" has the best test performance.\")\n",
    "      \n",
    "      \n",
    "      \n",
    "      "
   ]
  }
 ],
 "metadata": {
  "kernelspec": {
   "display_name": "Python 3",
   "language": "python",
   "name": "python3"
  },
  "language_info": {
   "codemirror_mode": {
    "name": "ipython",
    "version": 3
   },
   "file_extension": ".py",
   "mimetype": "text/x-python",
   "name": "python",
   "nbconvert_exporter": "python",
   "pygments_lexer": "ipython3",
   "version": "3.7.6"
  }
 },
 "nbformat": 4,
 "nbformat_minor": 4
}
