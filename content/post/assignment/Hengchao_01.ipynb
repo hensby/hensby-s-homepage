{
 "cells": [
  {
   "cell_type": "markdown",
   "metadata": {},
   "source": [
    "## assignment\n",
    "Hengchao Wang\n",
    "1001778272"
   ]
  },
  {
   "cell_type": "code",
   "execution_count": 1,
   "metadata": {},
   "outputs": [],
   "source": [
    "import numpy as np\n",
    "import matplotlib.pyplot as plt\n",
    "import math\n",
    "import pandas as pd\n",
    "import sklearn\n",
    "import prettytable as pt\n",
    "import numpy as np\n",
    "import tensorflow as tf\n",
    "\n",
    "from sklearn.pipeline import Pipeline\n",
    "from sklearn.linear_model import Ridge\n",
    "from sklearn.preprocessing import normalize,StandardScaler,PolynomialFeatures  \n",
    "from sklearn import model_selection\n",
    "from sklearn.linear_model import LinearRegression "
   ]
  },
  {
   "cell_type": "code",
   "execution_count": 2,
   "metadata": {},
   "outputs": [],
   "source": [
    "res = {}"
   ]
  },
  {
   "cell_type": "markdown",
   "metadata": {},
   "source": [
    "## a. Generate 20 data pairs (X, Y) using y = sin(2\\*pi\\*X) + N "
   ]
  },
  {
   "cell_type": "code",
   "execution_count": 18,
   "metadata": {},
   "outputs": [
    {
     "name": "stdout",
     "output_type": "stream",
     "text": [
      "[-0.13511273  0.18468915 -0.10182451  0.18664012  0.09603502  0.08406724\n",
      " -0.18322119 -0.1548708  -0.26950395  0.11386059 -0.03197565 -0.31144544\n",
      " -0.15728101  0.04475068 -0.17858001 -0.01282772 -0.01094735 -0.19418843\n",
      "  0.25439552  0.09524588]\n",
      "[3.68190648 2.32612886 2.48807293 0.39913587 0.79724111 5.04777546\n",
      " 4.82605602 1.176247   3.74257331 2.22257323 2.96313363 4.87029127\n",
      " 2.83184172 3.03681068 2.56122951 5.13146468 1.54140014 5.83297157\n",
      " 3.19685989 4.36359448]\n"
     ]
    }
   ],
   "source": [
    "x_sin = np.linspace(0,1,200)\n",
    "x = np.random.uniform(0,1,20)\n",
    "d = np.random.normal(loc=0,scale=0.2,size=20)    # N from the normal gaussian distribution \n",
    "print(d)\n",
    "y_sin = 2*math.pi*x_sin\n",
    "y = 2*math.pi*x\n",
    "print(y)\n",
    "for i in range(200):\n",
    "    y_sin[i] = math.sin(y_sin[i])    \n",
    "for i in range(20):\n",
    "    y[i] = math.sin(y[i])+ d[i]"
   ]
  },
  {
   "cell_type": "code",
   "execution_count": 19,
   "metadata": {},
   "outputs": [
    {
     "data": {
      "text/plain": [
       "<matplotlib.collections.PathCollection at 0x1a46019490>"
      ]
     },
     "execution_count": 19,
     "metadata": {},
     "output_type": "execute_result"
    },
    {
     "data": {
      "image/png": "[encoded data removed]",
      "text/plain": [
       "<Figure size 432x288 with 1 Axes>"
      ]
     },
     "metadata": {
      "needs_background": "light"
     },
     "output_type": "display_data"
    }
   ],
   "source": [
    "plt.plot(x_sin, y_sin, \"r-\")  # original sin function curve\n",
    "plt.scatter(x, y)"
   ]
  },
  {
   "cell_type": "code",
   "execution_count": 5,
   "metadata": {},
   "outputs": [
    {
     "data": {
      "text/html": [
       "<div>\n",
       "<style scoped>\n",
       "    .dataframe tbody tr th:only-of-type {\n",
       "        vertical-align: middle;\n",
       "    }\n",
       "\n",
       "    .dataframe tbody tr th {\n",
       "        vertical-align: top;\n",
       "    }\n",
       "\n",
       "    .dataframe thead th {\n",
       "        text-align: right;\n",
       "    }\n",
       "</style>\n",
       "<table border=\"1\" class=\"dataframe\">\n",
       "  <thead>\n",
       "    <tr style=\"text-align: right;\">\n",
       "      <th></th>\n",
       "      <th>X</th>\n",
       "      <th>Y</th>\n",
       "    </tr>\n",
       "  </thead>\n",
       "  <tbody>\n",
       "    <tr>\n",
       "      <th>0</th>\n",
       "      <td>0.000000</td>\n",
       "      <td>-0.068898</td>\n",
       "    </tr>\n",
       "    <tr>\n",
       "      <th>1</th>\n",
       "      <td>0.052632</td>\n",
       "      <td>0.351448</td>\n",
       "    </tr>\n",
       "    <tr>\n",
       "      <th>2</th>\n",
       "      <td>0.105263</td>\n",
       "      <td>0.860871</td>\n",
       "    </tr>\n",
       "    <tr>\n",
       "      <th>3</th>\n",
       "      <td>0.157895</td>\n",
       "      <td>0.785289</td>\n",
       "    </tr>\n",
       "    <tr>\n",
       "      <th>4</th>\n",
       "      <td>0.210526</td>\n",
       "      <td>1.009282</td>\n",
       "    </tr>\n",
       "    <tr>\n",
       "      <th>5</th>\n",
       "      <td>0.263158</td>\n",
       "      <td>0.782601</td>\n",
       "    </tr>\n",
       "    <tr>\n",
       "      <th>6</th>\n",
       "      <td>0.315789</td>\n",
       "      <td>0.785705</td>\n",
       "    </tr>\n",
       "    <tr>\n",
       "      <th>7</th>\n",
       "      <td>0.368421</td>\n",
       "      <td>0.505319</td>\n",
       "    </tr>\n",
       "    <tr>\n",
       "      <th>8</th>\n",
       "      <td>0.421053</td>\n",
       "      <td>0.465961</td>\n",
       "    </tr>\n",
       "    <tr>\n",
       "      <th>9</th>\n",
       "      <td>0.473684</td>\n",
       "      <td>0.127958</td>\n",
       "    </tr>\n",
       "    <tr>\n",
       "      <th>10</th>\n",
       "      <td>0.526316</td>\n",
       "      <td>-0.252053</td>\n",
       "    </tr>\n",
       "    <tr>\n",
       "      <th>11</th>\n",
       "      <td>0.578947</td>\n",
       "      <td>-0.381237</td>\n",
       "    </tr>\n",
       "    <tr>\n",
       "      <th>12</th>\n",
       "      <td>0.631579</td>\n",
       "      <td>-0.598058</td>\n",
       "    </tr>\n",
       "    <tr>\n",
       "      <th>13</th>\n",
       "      <td>0.684211</td>\n",
       "      <td>-0.581304</td>\n",
       "    </tr>\n",
       "    <tr>\n",
       "      <th>14</th>\n",
       "      <td>0.736842</td>\n",
       "      <td>-1.205981</td>\n",
       "    </tr>\n",
       "    <tr>\n",
       "      <th>15</th>\n",
       "      <td>0.789474</td>\n",
       "      <td>-0.735465</td>\n",
       "    </tr>\n",
       "    <tr>\n",
       "      <th>16</th>\n",
       "      <td>0.842105</td>\n",
       "      <td>-0.940200</td>\n",
       "    </tr>\n",
       "    <tr>\n",
       "      <th>17</th>\n",
       "      <td>0.894737</td>\n",
       "      <td>-0.700487</td>\n",
       "    </tr>\n",
       "    <tr>\n",
       "      <th>18</th>\n",
       "      <td>0.947368</td>\n",
       "      <td>-0.619352</td>\n",
       "    </tr>\n",
       "    <tr>\n",
       "      <th>19</th>\n",
       "      <td>1.000000</td>\n",
       "      <td>-0.152530</td>\n",
       "    </tr>\n",
       "  </tbody>\n",
       "</table>\n",
       "</div>"
      ],
      "text/plain": [
       "           X         Y\n",
       "0   0.000000 -0.068898\n",
       "1   0.052632  0.351448\n",
       "2   0.105263  0.860871\n",
       "3   0.157895  0.785289\n",
       "4   0.210526  1.009282\n",
       "5   0.263158  0.782601\n",
       "6   0.315789  0.785705\n",
       "7   0.368421  0.505319\n",
       "8   0.421053  0.465961\n",
       "9   0.473684  0.127958\n",
       "10  0.526316 -0.252053\n",
       "11  0.578947 -0.381237\n",
       "12  0.631579 -0.598058\n",
       "13  0.684211 -0.581304\n",
       "14  0.736842 -1.205981\n",
       "15  0.789474 -0.735465\n",
       "16  0.842105 -0.940200\n",
       "17  0.894737 -0.700487\n",
       "18  0.947368 -0.619352\n",
       "19  1.000000 -0.152530"
      ]
     },
     "execution_count": 5,
     "metadata": {},
     "output_type": "execute_result"
    }
   ],
   "source": [
    "data_1 = {'X':x, 'Y':y}\n",
    "data = pd.DataFrame(data = data_1, dtype=np.int8)\n",
    "data"
   ]
  },
  {
   "cell_type": "code",
   "execution_count": 6,
   "metadata": {},
   "outputs": [],
   "source": [
    "X_train,X_test, Y_train, Y_test =model_selection.train_test_split(x, y, test_size=0.5, random_state=3)"
   ]
  },
  {
   "cell_type": "code",
   "execution_count": 7,
   "metadata": {},
   "outputs": [
    {
     "data": {
      "text/html": [
       "<div>\n",
       "<style scoped>\n",
       "    .dataframe tbody tr th:only-of-type {\n",
       "        vertical-align: middle;\n",
       "    }\n",
       "\n",
       "    .dataframe tbody tr th {\n",
       "        vertical-align: top;\n",
       "    }\n",
       "\n",
       "    .dataframe thead th {\n",
       "        text-align: right;\n",
       "    }\n",
       "</style>\n",
       "<table border=\"1\" class=\"dataframe\">\n",
       "  <thead>\n",
       "    <tr style=\"text-align: right;\">\n",
       "      <th></th>\n",
       "      <th>X</th>\n",
       "      <th>Y</th>\n",
       "    </tr>\n",
       "  </thead>\n",
       "  <tbody>\n",
       "    <tr>\n",
       "      <th>0</th>\n",
       "      <td>0.473684</td>\n",
       "      <td>0.127958</td>\n",
       "    </tr>\n",
       "    <tr>\n",
       "      <th>1</th>\n",
       "      <td>0.578947</td>\n",
       "      <td>-0.381237</td>\n",
       "    </tr>\n",
       "    <tr>\n",
       "      <th>2</th>\n",
       "      <td>1.000000</td>\n",
       "      <td>-0.152530</td>\n",
       "    </tr>\n",
       "    <tr>\n",
       "      <th>3</th>\n",
       "      <td>0.947368</td>\n",
       "      <td>-0.619352</td>\n",
       "    </tr>\n",
       "    <tr>\n",
       "      <th>4</th>\n",
       "      <td>0.684211</td>\n",
       "      <td>-0.581304</td>\n",
       "    </tr>\n",
       "    <tr>\n",
       "      <th>5</th>\n",
       "      <td>0.263158</td>\n",
       "      <td>0.782601</td>\n",
       "    </tr>\n",
       "    <tr>\n",
       "      <th>6</th>\n",
       "      <td>0.000000</td>\n",
       "      <td>-0.068898</td>\n",
       "    </tr>\n",
       "    <tr>\n",
       "      <th>7</th>\n",
       "      <td>0.421053</td>\n",
       "      <td>0.465961</td>\n",
       "    </tr>\n",
       "    <tr>\n",
       "      <th>8</th>\n",
       "      <td>0.157895</td>\n",
       "      <td>0.785289</td>\n",
       "    </tr>\n",
       "    <tr>\n",
       "      <th>9</th>\n",
       "      <td>0.526316</td>\n",
       "      <td>-0.252053</td>\n",
       "    </tr>\n",
       "  </tbody>\n",
       "</table>\n",
       "</div>"
      ],
      "text/plain": [
       "          X         Y\n",
       "0  0.473684  0.127958\n",
       "1  0.578947 -0.381237\n",
       "2  1.000000 -0.152530\n",
       "3  0.947368 -0.619352\n",
       "4  0.684211 -0.581304\n",
       "5  0.263158  0.782601\n",
       "6  0.000000 -0.068898\n",
       "7  0.421053  0.465961\n",
       "8  0.157895  0.785289\n",
       "9  0.526316 -0.252053"
      ]
     },
     "execution_count": 7,
     "metadata": {},
     "output_type": "execute_result"
    }
   ],
   "source": [
    "train = {'X':X_train, 'Y': Y_train}\n",
    "train_data = pd.DataFrame(data = train, dtype=np.int8)\n",
    "train_data"
   ]
  },
  {
   "cell_type": "code",
   "execution_count": 8,
   "metadata": {},
   "outputs": [
    {
     "data": {
      "text/html": [
       "<div>\n",
       "<style scoped>\n",
       "    .dataframe tbody tr th:only-of-type {\n",
       "        vertical-align: middle;\n",
       "    }\n",
       "\n",
       "    .dataframe tbody tr th {\n",
       "        vertical-align: top;\n",
       "    }\n",
       "\n",
       "    .dataframe thead th {\n",
       "        text-align: right;\n",
       "    }\n",
       "</style>\n",
       "<table border=\"1\" class=\"dataframe\">\n",
       "  <thead>\n",
       "    <tr style=\"text-align: right;\">\n",
       "      <th></th>\n",
       "      <th>X</th>\n",
       "      <th>Y</th>\n",
       "    </tr>\n",
       "  </thead>\n",
       "  <tbody>\n",
       "    <tr>\n",
       "      <th>0</th>\n",
       "      <td>0.736842</td>\n",
       "      <td>-1.205981</td>\n",
       "    </tr>\n",
       "    <tr>\n",
       "      <th>1</th>\n",
       "      <td>0.105263</td>\n",
       "      <td>0.860871</td>\n",
       "    </tr>\n",
       "    <tr>\n",
       "      <th>2</th>\n",
       "      <td>0.052632</td>\n",
       "      <td>0.351448</td>\n",
       "    </tr>\n",
       "    <tr>\n",
       "      <th>3</th>\n",
       "      <td>0.894737</td>\n",
       "      <td>-0.700487</td>\n",
       "    </tr>\n",
       "    <tr>\n",
       "      <th>4</th>\n",
       "      <td>0.210526</td>\n",
       "      <td>1.009282</td>\n",
       "    </tr>\n",
       "    <tr>\n",
       "      <th>5</th>\n",
       "      <td>0.842105</td>\n",
       "      <td>-0.940200</td>\n",
       "    </tr>\n",
       "    <tr>\n",
       "      <th>6</th>\n",
       "      <td>0.315789</td>\n",
       "      <td>0.785705</td>\n",
       "    </tr>\n",
       "    <tr>\n",
       "      <th>7</th>\n",
       "      <td>0.368421</td>\n",
       "      <td>0.505319</td>\n",
       "    </tr>\n",
       "    <tr>\n",
       "      <th>8</th>\n",
       "      <td>0.789474</td>\n",
       "      <td>-0.735465</td>\n",
       "    </tr>\n",
       "    <tr>\n",
       "      <th>9</th>\n",
       "      <td>0.631579</td>\n",
       "      <td>-0.598058</td>\n",
       "    </tr>\n",
       "  </tbody>\n",
       "</table>\n",
       "</div>"
      ],
      "text/plain": [
       "          X         Y\n",
       "0  0.736842 -1.205981\n",
       "1  0.105263  0.860871\n",
       "2  0.052632  0.351448\n",
       "3  0.894737 -0.700487\n",
       "4  0.210526  1.009282\n",
       "5  0.842105 -0.940200\n",
       "6  0.315789  0.785705\n",
       "7  0.368421  0.505319\n",
       "8  0.789474 -0.735465\n",
       "9  0.631579 -0.598058"
      ]
     },
     "execution_count": 8,
     "metadata": {},
     "output_type": "execute_result"
    }
   ],
   "source": [
    "test = {'X':X_test, 'Y': Y_test}\n",
    "test_data = pd.DataFrame(data = test, dtype=np.int8)\n",
    "test_data"
   ]
  },
  {
   "cell_type": "code",
   "execution_count": 9,
   "metadata": {},
   "outputs": [
    {
     "data": {
      "text/plain": [
       "<matplotlib.collections.PathCollection at 0x1a43793a10>"
      ]
     },
     "execution_count": 9,
     "metadata": {},
     "output_type": "execute_result"
    },
    {
     "data": {
      "image/png": "[encoded data removed]",
      "text/plain": [
       "<Figure size 432x288 with 1 Axes>"
      ]
     },
     "metadata": {
      "needs_background": "light"
     },
     "output_type": "display_data"
    }
   ],
   "source": [
    "plt.scatter(X_train, Y_train)\n",
    "plt.scatter(X_test, Y_test, c = 'r')"
   ]
  },
  {
   "cell_type": "markdown",
   "metadata": {},
   "source": [
    "## b. Using room mean square error, find weights of polynomial regression for order is 0, 1, 3, 9"
   ]
  },
  {
   "cell_type": "code",
   "execution_count": 10,
   "metadata": {},
   "outputs": [],
   "source": [
    "def  polynomialRegression(i:int ) :\n",
    "    polynomial = PolynomialFeatures(degree = i)# quadratic polynomial\n",
    "    x_transformed = polynomial.fit_transform(X_train.reshape(10,1))\n",
    "    poly_linear_model = LinearRegression()\n",
    "    poly_linear_model.fit(x_transformed, Y_train)# train\n",
    "    return polynomial, poly_linear_model"
   ]
  },
  {
   "cell_type": "markdown",
   "metadata": {},
   "source": [
    "### weights of polynomial regression for order is 0"
   ]
  },
  {
   "cell_type": "code",
   "execution_count": 11,
   "metadata": {},
   "outputs": [
    {
     "data": {
      "text/plain": [
       "array([0.])"
      ]
     },
     "execution_count": 11,
     "metadata": {},
     "output_type": "execute_result"
    }
   ],
   "source": [
    "polynomial_0, poly_linear_model_0 = polynomialRegression(0) \n",
    "\n",
    "coef = poly_linear_model_0.coef_\n",
    "tmp = [0]*10\n",
    "for i in range(len(coef)) :\n",
    "    tmp[i] = int(coef[i])\n",
    "res['0'] = tmp\n",
    "coef"
   ]
  },
  {
   "cell_type": "markdown",
   "metadata": {},
   "source": [
    "### weights of polynomial regression for order is 1"
   ]
  },
  {
   "cell_type": "code",
   "execution_count": 12,
   "metadata": {},
   "outputs": [
    {
     "data": {
      "text/plain": [
       "array([ 0.        , -1.03980292])"
      ]
     },
     "execution_count": 12,
     "metadata": {},
     "output_type": "execute_result"
    }
   ],
   "source": [
    "\n",
    "polynomial_1, poly_linear_model_1 = polynomialRegression(1)\n",
    " \n",
    "coef = poly_linear_model_1.coef_\n",
    "tmp = [0]*10\n",
    "for i in range(len(coef)) :\n",
    "    tmp[i] = int(coef[i])\n",
    "res['1'] = tmp\n",
    "coef"
   ]
  },
  {
   "cell_type": "markdown",
   "metadata": {},
   "source": [
    "### weights of polynomial regression for order is 3"
   ]
  },
  {
   "cell_type": "code",
   "execution_count": 13,
   "metadata": {},
   "outputs": [
    {
     "data": {
      "text/plain": [
       "array([  0.        ,   9.05355623, -26.39654147,  17.21077736])"
      ]
     },
     "execution_count": 13,
     "metadata": {},
     "output_type": "execute_result"
    }
   ],
   "source": [
    "polynomial_3, poly_linear_model_3 = polynomialRegression(3)\n",
    " \n",
    "coef = poly_linear_model_3.coef_\n",
    "tmp = [0]*10\n",
    "for i in range(len(coef)) :\n",
    "    tmp[i] = int(coef[i])\n",
    "res['3'] = tmp\n",
    "coef"
   ]
  },
  {
   "cell_type": "markdown",
   "metadata": {},
   "source": [
    "### weights of polynomial regression for order is 9"
   ]
  },
  {
   "cell_type": "code",
   "execution_count": 14,
   "metadata": {},
   "outputs": [
    {
     "data": {
      "text/plain": [
       "array([ 0.00000000e+00, -4.40001497e+02,  9.05594258e+03, -7.51956543e+04,\n",
       "        3.35616148e+05, -8.87788711e+05,  1.43224233e+06, -1.38140936e+06,\n",
       "        7.30679050e+05, -1.62759822e+05])"
      ]
     },
     "execution_count": 14,
     "metadata": {},
     "output_type": "execute_result"
    }
   ],
   "source": [
    "polynomial_9, poly_linear_model_9 = polynomialRegression(9)\n",
    "coef = poly_linear_model_9.coef_\n",
    "tmp = [0]*10\n",
    "for i in range(len(coef)) :\n",
    "    tmp[i] = int(coef[i])\n",
    "res['9'] = tmp\n",
    "coef"
   ]
  },
  {
   "cell_type": "markdown",
   "metadata": {},
   "source": [
    "## c. Display weights in table "
   ]
  },
  {
   "cell_type": "code",
   "execution_count": 15,
   "metadata": {},
   "outputs": [
    {
     "name": "stdout",
     "output_type": "stream",
     "text": [
      "+-------------+---+----+-----+----------+\n",
      "| label\\order | 0 | 1  |  3  |    9     |\n",
      "+-------------+---+----+-----+----------+\n",
      "|      W0     | 0 | 0  |  0  |    0     |\n",
      "|      W1     | 0 | -1 |  9  |   -440   |\n",
      "|      W2     | 0 | 0  | -26 |   9055   |\n",
      "|      W3     | 0 | 0  |  17 |  -75195  |\n",
      "|      W4     | 0 | 0  |  0  |  335616  |\n",
      "|      W5     | 0 | 0  |  0  | -887788  |\n",
      "|      W6     | 0 | 0  |  0  | 1432242  |\n",
      "|      W7     | 0 | 0  |  0  | -1381409 |\n",
      "|      W8     | 0 | 0  |  0  |  730679  |\n",
      "|      W9     | 0 | 0  |  0  | -162759  |\n",
      "+-------------+---+----+-----+----------+\n"
     ]
    }
   ],
   "source": [
    "from prettytable import PrettyTable\n",
    "x= PrettyTable()\n",
    "x.add_column(\"label\\order\", [\"W0\",\"W1\",\"W2\",\"W3\",\"W4\",\"W5\",\"W6\",\"W7\",\"W8\",\"W9\"])\n",
    "x.add_column(\"0\", res[\"0\"])\n",
    "x.add_column(\"1\", res[\"1\"])\n",
    "x.add_column(\"3\", res[\"3\"])\n",
    "x.add_column(\"9\", res[\"9\"])\n",
    "print(x)\n",
    "# the label 0, W0 in the table is the weights of polynomial regression for order is 0\n",
    "# the label 1, W0 and W1 in the table is the weights of polynomial regression for order is 1\n",
    "# the label 3, W0, W1, W2 and W3 in the table is the weights of polynomial regression for order is 3\n",
    "# the label 9, W0-W9 in the table is the weights of polynomial regression for order is 9"
   ]
  },
  {
   "cell_type": "markdown",
   "metadata": {},
   "source": [
    "## d. Draw a chart of fit data\n",
    "### weights of polynomial regression for order is 0"
   ]
  },
  {
   "cell_type": "code",
   "execution_count": 16,
   "metadata": {},
   "outputs": [
    {
     "data": {
      "text/plain": [
       "<matplotlib.legend.Legend at 0x1a437dee10>"
      ]
     },
     "execution_count": 16,
     "metadata": {},
     "output_type": "execute_result"
    },
    {
     "data": {
      "image/png": "[encoded data removed]",
      "text/plain": [
       "<Figure size 432x288 with 1 Axes>"
      ]
     },
     "metadata": {
      "needs_background": "light"
     },
     "output_type": "display_data"
    }
   ],
   "source": [
    "xx = np.linspace(0, 1, 100)\n",
    "xx_transformed_0 = polynomial_0.fit_transform(xx.reshape(xx.shape[0], 1))\n",
    "yy = poly_linear_model_0.predict(xx_transformed_0)\n",
    "plt.plot(xx, yy,label=\"$y = N$\")\n",
    "plt.scatter(X_train, Y_train)\n",
    "plt.scatter(X_test, Y_test, c = 'r')\n",
    "plt.legend()"
   ]
  },
  {
   "cell_type": "markdown",
   "metadata": {},
   "source": [
    "### weights of polynomial regression for order is 1"
   ]
  },
  {
   "cell_type": "code",
   "execution_count": 17,
   "metadata": {},
   "outputs": [
    {
     "data": {
      "text/plain": [
       "<matplotlib.legend.Legend at 0x1a438c0c10>"
      ]
     },
     "execution_count": 17,
     "metadata": {},
     "output_type": "execute_result"
    },
    {
     "data": {
      "image/png": "[encoded data removed]",
      "text/plain": [
       "<Figure size 432x288 with 1 Axes>"
      ]
     },
     "metadata": {
      "needs_background": "light"
     },
     "output_type": "display_data"
    }
   ],
   "source": [
    "xx = np.linspace(0, 1, 100)\n",
    "xx_transformed_1 = polynomial_1.fit_transform(xx.reshape(xx.shape[0], 1))\n",
    "yy = poly_linear_model_1.predict(xx_transformed_1)\n",
    "plt.plot(xx, yy,label=\"$y = ax$\")\n",
    "plt.scatter(X_train, Y_train)\n",
    "plt.scatter(X_test, Y_test, c = 'r')\n",
    "plt.legend()"
   ]
  },
  {
   "cell_type": "markdown",
   "metadata": {},
   "source": [
    "### weights of polynomial regression for order is 3"
   ]
  },
  {
   "cell_type": "code",
   "execution_count": 18,
   "metadata": {},
   "outputs": [
    {
     "data": {
      "text/plain": [
       "<matplotlib.legend.Legend at 0x1a43a8a390>"
      ]
     },
     "execution_count": 18,
     "metadata": {},
     "output_type": "execute_result"
    },
    {
     "data": {
      "image/png": "[encoded data removed]",
      "text/plain": [
       "<Figure size 432x288 with 1 Axes>"
      ]
     },
     "metadata": {
      "needs_background": "light"
     },
     "output_type": "display_data"
    }
   ],
   "source": [
    "xx = np.linspace(0, 1, 100)\n",
    "xx_transformed_3 = polynomial_3.fit_transform(xx.reshape(xx.shape[0], 1))\n",
    "yy = poly_linear_model_3.predict(xx_transformed_3)\n",
    "plt.plot(xx, yy,label=\"$y = ax3+bx2+cx+d$\")\n",
    "plt.scatter(X_train, Y_train)\n",
    "plt.scatter(X_test, Y_test, c = 'r')\n",
    "plt.legend()"
   ]
  },
  {
   "cell_type": "markdown",
   "metadata": {},
   "source": [
    "### weights of polynomial regression for order is 9"
   ]
  },
  {
   "cell_type": "code",
   "execution_count": 19,
   "metadata": {},
   "outputs": [
    {
     "data": {
      "text/plain": [
       "<matplotlib.legend.Legend at 0x1a43bede90>"
      ]
     },
     "execution_count": 19,
     "metadata": {},
     "output_type": "execute_result"
    },
    {
     "data": {
      "image/png": "[encoded data removed]",
      "text/plain": [
       "<Figure size 432x288 with 1 Axes>"
      ]
     },
     "metadata": {
      "needs_background": "light"
     },
     "output_type": "display_data"
    }
   ],
   "source": [
    "xx = np.linspace(0, 1, 100)\n",
    "xx_transformed_9 = polynomial_9.fit_transform(xx.reshape(xx.shape[0], 1))\n",
    "yy = poly_linear_model_9.predict(xx_transformed_9)\n",
    "plt.plot(xx, yy,label=\"$y = ax9+....$\")\n",
    "plt.scatter(X_train, Y_train)\n",
    "plt.scatter(X_test, Y_test, c = 'r')\n",
    "plt.ylim(-1.5 ,1.5)\n",
    "plt.legend()"
   ]
  },
  {
   "cell_type": "markdown",
   "metadata": {},
   "source": [
    "## e. Draw train error vs test error"
   ]
  },
  {
   "cell_type": "code",
   "execution_count": 20,
   "metadata": {},
   "outputs": [],
   "source": [
    "train_error = [0]*10     #train error\n",
    "test_error = [0]*10      #test error"
   ]
  },
  {
   "cell_type": "code",
   "execution_count": 21,
   "metadata": {},
   "outputs": [],
   "source": [
    "def getMse(Y, yy):\n",
    "    standard = tf.square(Y - yy)\n",
    "    mse = tf.reduce_mean(standard)\n",
    "    return mse.numpy()"
   ]
  },
  {
   "cell_type": "code",
   "execution_count": 22,
   "metadata": {},
   "outputs": [],
   "source": [
    "def getError(i:int,  model) :\n",
    "    polynomial = PolynomialFeatures(degree = i)\n",
    "    xx_transformed_test = polynomial.fit_transform(X_test.reshape(X_test.shape[0], 1))\n",
    "    xx_transformed_train = polynomial.fit_transform(X_train.reshape(X_test.shape[0], 1))\n",
    "    yy_test = model.predict(xx_transformed_test)\n",
    "    yy_train = model.predict(xx_transformed_train)\n",
    "\n",
    "    test_error[i] = getMse(Y_test, yy_test)\n",
    "\n",
    "    train_error[i] = getMse(Y_train, yy_train)"
   ]
  },
  {
   "cell_type": "code",
   "execution_count": 23,
   "metadata": {},
   "outputs": [
    {
     "name": "stdout",
     "output_type": "stream",
     "text": [
      "[0.6498920057761227, 0.29804783140365465, 0.30113805806870736, 0.02726799080902726, 0.0271024086195014, 0.026776756066662428, 0.04301676452676815, 0.12082159598343782, 0.401395880004449, 14.044977128617717]\n",
      "[0.24198978400252188, 0.14243643318053872, 0.14127787295342403, 0.006370123295882909, 0.006346077518346089, 0.0061639660337249, 0.004435216402598326, 0.0008846725534367012, 0.00025564239293912985, 3.1460399327300388e-21]\n"
     ]
    }
   ],
   "source": [
    "polynomial_2, poly_linear_model_2 = polynomialRegression(2)\n",
    "polynomial_4, poly_linear_model_4 = polynomialRegression(4)\n",
    "polynomial_5, poly_linear_model_5 = polynomialRegression(5)\n",
    "polynomial_6, poly_linear_model_6 = polynomialRegression(6)\n",
    "polynomial_7, poly_linear_model_7 = polynomialRegression(7)\n",
    "polynomial_8, poly_linear_model_8 = polynomialRegression(8)\n",
    "# 0,1,3,9 I used the model fitted before.\n",
    "getError(0, poly_linear_model_0)\n",
    "getError(1, poly_linear_model_1)\n",
    "getError(2, poly_linear_model_2)\n",
    "getError(3, poly_linear_model_3)\n",
    "getError(4, poly_linear_model_4)\n",
    "getError(5, poly_linear_model_5)\n",
    "getError(6, poly_linear_model_6)\n",
    "getError(7, poly_linear_model_7)\n",
    "getError(8, poly_linear_model_8)\n",
    "getError(9, poly_linear_model_9)\n",
    "\n",
    "print(test_error)\n",
    "print(train_error)"
   ]
  },
  {
   "cell_type": "code",
   "execution_count": 24,
   "metadata": {},
   "outputs": [
    {
     "data": {
      "text/plain": [
       "<matplotlib.legend.Legend at 0x1a43c40190>"
      ]
     },
     "execution_count": 24,
     "metadata": {},
     "output_type": "execute_result"
    },
    {
     "data": {
      "image/png": "[encoded data removed]",
      "text/plain": [
       "<Figure size 432x288 with 1 Axes>"
      ]
     },
     "metadata": {
      "needs_background": "light"
     },
     "output_type": "display_data"
    }
   ],
   "source": [
    "xx = np.linspace(0, 9, 10)     # error chart\n",
    "plt.ylim(0 ,1)\n",
    "plt.xlim(0,9)\n",
    "plt.plot(xx, test_error, label = \"$test error$\", c = 'r')\n",
    "plt.plot(xx, train_error, label = \"$train error$\", c = 'b')\n",
    "\n",
    "plt.xlabel('Orders')\n",
    "\n",
    "plt.ylabel('Error')\n",
    "plt.legend()"
   ]
  },
  {
   "cell_type": "markdown",
   "metadata": {},
   "source": [
    "## f. Generate 100 more data and fit 9th order model and draw fit"
   ]
  },
  {
   "cell_type": "code",
   "execution_count": 25,
   "metadata": {},
   "outputs": [
    {
     "data": {
      "text/html": [
       "<div>\n",
       "<style scoped>\n",
       "    .dataframe tbody tr th:only-of-type {\n",
       "        vertical-align: middle;\n",
       "    }\n",
       "\n",
       "    .dataframe tbody tr th {\n",
       "        vertical-align: top;\n",
       "    }\n",
       "\n",
       "    .dataframe thead th {\n",
       "        text-align: right;\n",
       "    }\n",
       "</style>\n",
       "<table border=\"1\" class=\"dataframe\">\n",
       "  <thead>\n",
       "    <tr style=\"text-align: right;\">\n",
       "      <th></th>\n",
       "      <th>X</th>\n",
       "      <th>Y</th>\n",
       "    </tr>\n",
       "  </thead>\n",
       "  <tbody>\n",
       "    <tr>\n",
       "      <th>0</th>\n",
       "      <td>0.000000</td>\n",
       "      <td>0.204449</td>\n",
       "    </tr>\n",
       "    <tr>\n",
       "      <th>1</th>\n",
       "      <td>0.010101</td>\n",
       "      <td>0.294845</td>\n",
       "    </tr>\n",
       "    <tr>\n",
       "      <th>2</th>\n",
       "      <td>0.020202</td>\n",
       "      <td>0.059705</td>\n",
       "    </tr>\n",
       "    <tr>\n",
       "      <th>3</th>\n",
       "      <td>0.030303</td>\n",
       "      <td>0.599017</td>\n",
       "    </tr>\n",
       "    <tr>\n",
       "      <th>4</th>\n",
       "      <td>0.040404</td>\n",
       "      <td>-0.021195</td>\n",
       "    </tr>\n",
       "    <tr>\n",
       "      <th>...</th>\n",
       "      <td>...</td>\n",
       "      <td>...</td>\n",
       "    </tr>\n",
       "    <tr>\n",
       "      <th>95</th>\n",
       "      <td>0.959596</td>\n",
       "      <td>-0.388439</td>\n",
       "    </tr>\n",
       "    <tr>\n",
       "      <th>96</th>\n",
       "      <td>0.969697</td>\n",
       "      <td>0.484030</td>\n",
       "    </tr>\n",
       "    <tr>\n",
       "      <th>97</th>\n",
       "      <td>0.979798</td>\n",
       "      <td>-0.015679</td>\n",
       "    </tr>\n",
       "    <tr>\n",
       "      <th>98</th>\n",
       "      <td>0.989899</td>\n",
       "      <td>0.012487</td>\n",
       "    </tr>\n",
       "    <tr>\n",
       "      <th>99</th>\n",
       "      <td>1.000000</td>\n",
       "      <td>0.029097</td>\n",
       "    </tr>\n",
       "  </tbody>\n",
       "</table>\n",
       "<p>100 rows × 2 columns</p>\n",
       "</div>"
      ],
      "text/plain": [
       "           X         Y\n",
       "0   0.000000  0.204449\n",
       "1   0.010101  0.294845\n",
       "2   0.020202  0.059705\n",
       "3   0.030303  0.599017\n",
       "4   0.040404 -0.021195\n",
       "..       ...       ...\n",
       "95  0.959596 -0.388439\n",
       "96  0.969697  0.484030\n",
       "97  0.979798 -0.015679\n",
       "98  0.989899  0.012487\n",
       "99  1.000000  0.029097\n",
       "\n",
       "[100 rows x 2 columns]"
      ]
     },
     "execution_count": 25,
     "metadata": {},
     "output_type": "execute_result"
    }
   ],
   "source": [
    "x_100 = np.linspace(0,1,100)     # Gegerate new 100 samples\n",
    "d_100 = np.random.normal(loc=0,scale=0.2,size=100)    # N from the normal gaussian distribution \n",
    "y_100 = 2*math.pi*x_100\n",
    "for i in range(100):\n",
    "    y_100[i] = math.sin(y_100[i])+ d_100[i]\n",
    "data_1 = {'X':x_100, 'Y':y_100}\n",
    "data_100 = pd.DataFrame(data = data_1, dtype=np.int8)\n",
    "data_100"
   ]
  },
  {
   "cell_type": "code",
   "execution_count": 26,
   "metadata": {},
   "outputs": [
    {
     "data": {
      "text/plain": [
       "<matplotlib.collections.PathCollection at 0x1a43ca1290>"
      ]
     },
     "execution_count": 26,
     "metadata": {},
     "output_type": "execute_result"
    },
    {
     "data": {
      "image/png": "[encoded data removed]",
      "text/plain": [
       "<Figure size 432x288 with 1 Axes>"
      ]
     },
     "metadata": {
      "needs_background": "light"
     },
     "output_type": "display_data"
    }
   ],
   "source": [
    "plt.scatter(x_100, y_100, marker = \"o\",c = \"r\")"
   ]
  },
  {
   "cell_type": "code",
   "execution_count": 27,
   "metadata": {},
   "outputs": [
    {
     "data": {
      "text/plain": [
       "<matplotlib.legend.Legend at 0x1a43f87890>"
      ]
     },
     "execution_count": 27,
     "metadata": {},
     "output_type": "execute_result"
    },
    {
     "data": {
      "image/png": "[encoded data removed]",
      "text/plain": [
       "<Figure size 432x288 with 1 Axes>"
      ]
     },
     "metadata": {
      "needs_background": "light"
     },
     "output_type": "display_data"
    }
   ],
   "source": [
    "polynomial = PolynomialFeatures(degree = 9)# quadratic polynomial\n",
    "x_transformed = polynomial.fit_transform(x_100.reshape(100,1))\n",
    "poly_linear_model = LinearRegression()\n",
    "poly_linear_model.fit(x_transformed, y_100)# train\n",
    "\n",
    "xx_transformed_9 = polynomial.fit_transform(x_100.reshape(x_100.shape[0], 1))\n",
    "yy = poly_linear_model.predict(xx_transformed_9)\n",
    "plt.plot(x_100, yy,label=\"$y = ax9+.....$\")\n",
    "plt.scatter(x_100, y_100, c = \"r\")\n",
    "plt.legend()"
   ]
  },
  {
   "cell_type": "markdown",
   "metadata": {},
   "source": [
    "## g. Regularize using the sum of weights. \n",
    "## h. Draw chart for lamda\n"
   ]
  },
  {
   "cell_type": "code",
   "execution_count": 75,
   "metadata": {},
   "outputs": [],
   "source": [
    "def regularizeRidge(alpha):\n",
    "    if alpha < 0: alpha = math.exp(alpha)    # easy to calculate lambda. if lambda < 0, we calculate it as ln(lambda).\n",
    "    else:\n",
    "        print(\"alpha = \",alpha)\n",
    "        if alpha != 0: print(\"ln(alpha) = \", math.log(alpha))\n",
    "    polynomial = PolynomialFeatures(degree = 9)# quadratic polynomial\n",
    "    x_transformed = polynomial.fit_transform(X_train.reshape(10,1))\n",
    "    poly_linear_model = Ridge(alpha = alpha)\n",
    "    poly_linear_model.fit(x_transformed, Y_train)# train\n",
    "\n",
    "    return poly_linear_model\n",
    "\n",
    "def chartRidge(alpha):\n",
    "    model = regularizeRidge(alpha)\n",
    "    xx = np.linspace(0, 1, 100)\n",
    "    x_transformed = polynomial.fit_transform(xx.reshape(100,1))\n",
    "    yy = model.predict(x_transformed)\n",
    "    plt.plot(xx, yy,label=alpha)\n",
    "    plt.scatter(X_train, Y_train)\n",
    "    plt.scatter(X_test, Y_test, c = 'r')\n",
    "    plt.legend()"
   ]
  },
  {
   "cell_type": "code",
   "execution_count": 67,
   "metadata": {},
   "outputs": [
    {
     "name": "stdout",
     "output_type": "stream",
     "text": [
      "alpha =  0\n"
     ]
    },
    {
     "data": {
      "image/png": "[encoded data removed]",
      "text/plain": [
       "<Figure size 432x288 with 1 Axes>"
      ]
     },
     "metadata": {
      "needs_background": "light"
     },
     "output_type": "display_data"
    }
   ],
   "source": [
    "chartRidge(0) #, lambda = 0"
   ]
  },
  {
   "cell_type": "code",
   "execution_count": 68,
   "metadata": {},
   "outputs": [
    {
     "name": "stdout",
     "output_type": "stream",
     "text": [
      "alpha =  0.1\n",
      "ln(alpha) =  -2.3025850929940455\n"
     ]
    },
    {
     "data": {
      "image/png": "[encoded data removed]",
      "text/plain": [
       "<Figure size 432x288 with 1 Axes>"
      ]
     },
     "metadata": {
      "needs_background": "light"
     },
     "output_type": "display_data"
    }
   ],
   "source": [
    "chartRidge(0.1)    #ln(lambda) =  -4.6051701860e+0, lambda = 0.1"
   ]
  },
  {
   "cell_type": "code",
   "execution_count": 69,
   "metadata": {},
   "outputs": [
    {
     "name": "stdout",
     "output_type": "stream",
     "text": [
      "alpha =  0.01\n",
      "ln(alpha) =  -4.605170185988091\n"
     ]
    },
    {
     "data": {
      "image/png": "[encoded data removed]",
      "text/plain": [
       "<Figure size 432x288 with 1 Axes>"
      ]
     },
     "metadata": {
      "needs_background": "light"
     },
     "output_type": "display_data"
    }
   ],
   "source": [
    "chartRidge(0.01)    #ln(lambda) = -25, lambda = 1.3887943864964021e-11"
   ]
  },
  {
   "cell_type": "code",
   "execution_count": 70,
   "metadata": {},
   "outputs": [
    {
     "name": "stdout",
     "output_type": "stream",
     "text": [
      "alpha =  0.001\n",
      "ln(alpha) =  -6.907755278982137\n"
     ]
    },
    {
     "data": {
      "image/png": "[encoded data removed]",
      "text/plain": [
       "<Figure size 432x288 with 1 Axes>"
      ]
     },
     "metadata": {
      "needs_background": "light"
     },
     "output_type": "display_data"
    }
   ],
   "source": [
    "chartRidge(0.001)    #ln(lambda) = -20, lambda = 2.061153622438558e-09"
   ]
  },
  {
   "cell_type": "code",
   "execution_count": 71,
   "metadata": {},
   "outputs": [
    {
     "name": "stdout",
     "output_type": "stream",
     "text": [
      "alpha =  0.0001\n",
      "ln(alpha) =  -9.210340371976182\n"
     ]
    },
    {
     "data": {
      "image/png": "[encoded data removed]",
      "text/plain": [
       "<Figure size 432x288 with 1 Axes>"
      ]
     },
     "metadata": {
      "needs_background": "light"
     },
     "output_type": "display_data"
    }
   ],
   "source": [
    "chartRidge(0.0001)    #ln(lambda) = -15, lambda = 3.059023205018258e-07"
   ]
  },
  {
   "cell_type": "markdown",
   "metadata": {},
   "source": [
    "## i. Draw test  and train error according to lamda "
   ]
  },
  {
   "cell_type": "code",
   "execution_count": 76,
   "metadata": {},
   "outputs": [],
   "source": [
    "train_error_ridge = np.zeros(30)\n",
    "test_error_ridge = np.zeros(30)\n",
    "\n",
    "def getErrorRidge(i:int,  model) :     # A new error function\n",
    "    xx_transformed_test = polynomial.fit_transform(X_test.reshape(X_test.shape[0], 1))\n",
    "    xx_transformed_train = polynomial.fit_transform(X_train.reshape(X_train.shape[0], 1))\n",
    "    yy_test = model.predict(xx_transformed_test)\n",
    "    yy_train = model.predict(xx_transformed_train)\n",
    "    test_error_ridge[i] = getMse(Y_test, yy_test)\n",
    "    train_error_ridge[i] = getMse(Y_train, yy_train)"
   ]
  },
  {
   "cell_type": "code",
   "execution_count": 77,
   "metadata": {},
   "outputs": [],
   "source": [
    "xx = list(range(-30, 0))\n",
    "for i in xx:\n",
    "    model = regularizeRidge(i)\n",
    "    getErrorRidge(i, model)"
   ]
  },
  {
   "cell_type": "code",
   "execution_count": 78,
   "metadata": {},
   "outputs": [
    {
     "data": {
      "text/plain": [
       "<matplotlib.legend.Legend at 0x1a4401ad50>"
      ]
     },
     "execution_count": 78,
     "metadata": {},
     "output_type": "execute_result"
    },
    {
     "data": {
      "image/png": "[encoded data removed]",
      "text/plain": [
       "<Figure size 432x288 with 1 Axes>"
      ]
     },
     "metadata": {
      "needs_background": "light"
     },
     "output_type": "display_data"
    }
   ],
   "source": [
    "xx = list(range(-30, 0))\n",
    "plt.ylim(0 ,0.5)\n",
    "plt.xlim(-30,0)\n",
    "plt.plot(xx, test_error_ridge, label = \"$test-error$\", c = 'r')\n",
    "plt.plot(xx, train_error_ridge, label = \"$train-error$\", c = 'b')\n",
    "\n",
    "plt.xlabel('ln(lamdba)')\n",
    "\n",
    "plt.ylabel('Error')\n",
    "plt.legend()"
   ]
  },
  {
   "cell_type": "code",
   "execution_count": 79,
   "metadata": {},
   "outputs": [
    {
     "name": "stdout",
     "output_type": "stream",
     "text": [
      "best ln(lambda) =  -11\n",
      "best lambda =  1.670170079024566e-05\n",
      "In summary, the model which ln(lamdba) =  -11 , lambda =  1.670170079024566e-05  has the best test performance.\n"
     ]
    }
   ],
   "source": [
    "#   get the best lambda\n",
    "best_lambda = 0\n",
    "for i in range(-30,0):\n",
    "    if test_error_ridge[i+30] == test_error_ridge.min(): best_lambda = i\n",
    "print(\"best ln(lambda) = \", best_lambda)\n",
    "best_lambda_0 = math.exp(best_lambda)\n",
    "print(\"best lambda = \", best_lambda_0)\n",
    "print(\"In summary, the model which ln(lamdba) = \",best_lambda,\", lambda = \",best_lambda_0,\" has the best test performance.\")\n",
    "  "
   ]
  }
 ],
 "metadata": {
  "kernelspec": {
   "display_name": "Python 3",
   "language": "python",
   "name": "python3"
  },
  "language_info": {
   "codemirror_mode": {
    "name": "ipython",
    "version": 3
   },
   "file_extension": ".py",
   "mimetype": "text/x-python",
   "name": "python",
   "nbconvert_exporter": "python",
   "pygments_lexer": "ipython3",
   "version": "3.7.6"
  }
 },
 "nbformat": 4,
 "nbformat_minor": 4
}
